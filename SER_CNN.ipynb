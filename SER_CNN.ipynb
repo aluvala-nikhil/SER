{
  "nbformat": 4,
  "nbformat_minor": 0,
  "metadata": {
    "colab": {
      "name": "SER_CNN.ipynb",
      "provenance": [],
      "authorship_tag": "ABX9TyO3VJvD5O/sI0pi/R/pB9or",
      "include_colab_link": true
    },
    "kernelspec": {
      "name": "python3",
      "display_name": "Python 3"
    },
    "language_info": {
      "name": "python"
    }
  },
  "cells": [
    {
      "cell_type": "markdown",
      "metadata": {
        "id": "view-in-github",
        "colab_type": "text"
      },
      "source": [
        "<a href=\"https://colab.research.google.com/github/aluvala-nikhil/SER/blob/main/SER_CNN.ipynb\" target=\"_parent\"><img src=\"https://colab.research.google.com/assets/colab-badge.svg\" alt=\"Open In Colab\"/></a>"
      ]
    },
    {
      "cell_type": "markdown",
      "metadata": {
        "id": "sap5smqPewxO"
      },
      "source": [
        "Mounting Gdrive"
      ]
    },
    {
      "cell_type": "code",
      "metadata": {
        "colab": {
          "base_uri": "https://localhost:8080/"
        },
        "id": "qXLj9s46IODD",
        "outputId": "a2397cff-9374-4526-ee2d-8149875f4b7f"
      },
      "source": [
        "from google.colab import drive\n",
        "drive.mount('/content/drive')"
      ],
      "execution_count": null,
      "outputs": [
        {
          "output_type": "stream",
          "text": [
            "Mounted at /content/drive\n"
          ],
          "name": "stdout"
        }
      ]
    },
    {
      "cell_type": "markdown",
      "metadata": {
        "id": "vkLvolU4e1hQ"
      },
      "source": [
        "Installing Tensorflow"
      ]
    },
    {
      "cell_type": "code",
      "metadata": {
        "id": "s7QWUE7pYEpw"
      },
      "source": [
        "!pip install tensorflow"
      ],
      "execution_count": null,
      "outputs": []
    },
    {
      "cell_type": "code",
      "metadata": {
        "id": "sPBj3ofVdOlI"
      },
      "source": [
        "!pip install --upgrade tensorflow"
      ],
      "execution_count": null,
      "outputs": []
    },
    {
      "cell_type": "markdown",
      "metadata": {
        "id": "AjcoKaiWfUSZ"
      },
      "source": [
        "Installing required libraries"
      ]
    },
    {
      "cell_type": "code",
      "metadata": {
        "id": "sNgpUCJsdRW7"
      },
      "source": [
        "!pip install python_speech_features\n",
        "!pip install resampy\n",
        "!pip install scipy\n",
        "!pip install gdown\n",
        "!pip install tqdm -U\n",
        "!pip install soundfile\n",
        "!pip install noisereduce\n",
        "!pip install wave\n",
        "!apt install libasound2-dev portaudio19-dev libportaudio2 libportaudiocpp0 ffmpeg\n",
        "!pip install pyaudio\n",
        "!pip install python_speech_features\n",
        "!pip install wavio"
      ],
      "execution_count": null,
      "outputs": []
    },
    {
      "cell_type": "markdown",
      "metadata": {
        "id": "i5ckC2GJfaHv"
      },
      "source": [
        "Importing requried libraries"
      ]
    },
    {
      "cell_type": "code",
      "metadata": {
        "id": "94B8t8rodtdS"
      },
      "source": [
        "import os\n",
        "import glob\n",
        "from tqdm import tqdm\n",
        "import pandas as pd\n",
        "import numpy as np\n",
        "import matplotlib.pyplot as plt\n",
        "from scipy.io import wavfile\n",
        "from python_speech_features import mfcc , logfbank\n",
        "import librosa as lr\n",
        "import os, glob, pickle\n",
        "import librosa\n",
        "from scipy import signal\n",
        "import noisereduce as nr\n",
        "from glob import glob\n",
        "import librosa\n",
        "get_ipython().magic('matplotlib inline')\n",
        "import soundfile\n",
        "from tensorflow.keras.layers import Conv2D,MaxPool2D, Flatten, LSTM\n",
        "from keras.layers import Dropout,Dense,TimeDistributed\n",
        "from keras.models import Sequential\n",
        "from keras.utils import to_categorical \n",
        "from sklearn.utils.class_weight import compute_class_weight\n",
        "from sklearn.model_selection import train_test_split\n",
        "from sklearn.neural_network import MLPClassifier\n",
        "from sklearn.metrics import accuracy_score"
      ],
      "execution_count": null,
      "outputs": []
    },
    {
      "cell_type": "markdown",
      "metadata": {
        "id": "GMKcSeLzffKB"
      },
      "source": [
        "Appending the dataset to a list"
      ]
    },
    {
      "cell_type": "code",
      "metadata": {
        "id": "PosZbrUudzij"
      },
      "source": [
        "os.listdir(path='/content/drive/MyDrive/Speech123/')\n",
        "def getListOfFiles(dirName):\n",
        "    listOfFile=os.listdir(dirName)\n",
        "    allFiles=list()\n",
        "    for entry in listOfFile:\n",
        "        fullPath=os.path.join(dirName, entry)\n",
        "        if os.path.isdir(fullPath):\n",
        "            allFiles=allFiles + getListOfFiles(fullPath)\n",
        "        else:\n",
        "            allFiles.append(fullPath)\n",
        "    return allFiles\n",
        " \n",
        "dirName = '/content/drive/MyDrive/Speech123/'\n",
        "listOfFiles = getListOfFiles(dirName)\n",
        "len(listOfFiles)"
      ],
      "execution_count": null,
      "outputs": []
    },
    {
      "cell_type": "markdown",
      "metadata": {
        "id": "N3lPTUVmfkPa"
      },
      "source": [
        "Installing librosa"
      ]
    },
    {
      "cell_type": "code",
      "metadata": {
        "colab": {
          "base_uri": "https://localhost:8080/"
        },
        "id": "mdfOoDFJIal_",
        "outputId": "91d45c8d-7294-4d53-b6b2-b2c42a69f80b"
      },
      "source": [
        "!pip install librosa"
      ],
      "execution_count": null,
      "outputs": [
        {
          "output_type": "stream",
          "text": [
            "Requirement already satisfied: librosa in /usr/local/lib/python3.7/dist-packages (0.8.0)\n",
            "Requirement already satisfied: soundfile>=0.9.0 in /usr/local/lib/python3.7/dist-packages (from librosa) (0.10.3.post1)\n",
            "Requirement already satisfied: scikit-learn!=0.19.0,>=0.14.0 in /usr/local/lib/python3.7/dist-packages (from librosa) (0.22.2.post1)\n",
            "Requirement already satisfied: numpy>=1.15.0 in /usr/local/lib/python3.7/dist-packages (from librosa) (1.19.5)\n",
            "Requirement already satisfied: joblib>=0.14 in /usr/local/lib/python3.7/dist-packages (from librosa) (1.0.1)\n",
            "Requirement already satisfied: resampy>=0.2.2 in /usr/local/lib/python3.7/dist-packages (from librosa) (0.2.2)\n",
            "Requirement already satisfied: numba>=0.43.0 in /usr/local/lib/python3.7/dist-packages (from librosa) (0.51.2)\n",
            "Requirement already satisfied: pooch>=1.0 in /usr/local/lib/python3.7/dist-packages (from librosa) (1.3.0)\n",
            "Requirement already satisfied: scipy>=1.0.0 in /usr/local/lib/python3.7/dist-packages (from librosa) (1.4.1)\n",
            "Requirement already satisfied: decorator>=3.0.0 in /usr/local/lib/python3.7/dist-packages (from librosa) (4.4.2)\n",
            "Requirement already satisfied: audioread>=2.0.0 in /usr/local/lib/python3.7/dist-packages (from librosa) (2.1.9)\n",
            "Requirement already satisfied: cffi>=1.0 in /usr/local/lib/python3.7/dist-packages (from soundfile>=0.9.0->librosa) (1.14.5)\n",
            "Requirement already satisfied: six>=1.3 in /usr/local/lib/python3.7/dist-packages (from resampy>=0.2.2->librosa) (1.15.0)\n",
            "Requirement already satisfied: setuptools in /usr/local/lib/python3.7/dist-packages (from numba>=0.43.0->librosa) (56.0.0)\n",
            "Requirement already satisfied: llvmlite<0.35,>=0.34.0.dev0 in /usr/local/lib/python3.7/dist-packages (from numba>=0.43.0->librosa) (0.34.0)\n",
            "Requirement already satisfied: packaging in /usr/local/lib/python3.7/dist-packages (from pooch>=1.0->librosa) (20.9)\n",
            "Requirement already satisfied: appdirs in /usr/local/lib/python3.7/dist-packages (from pooch>=1.0->librosa) (1.4.4)\n",
            "Requirement already satisfied: requests in /usr/local/lib/python3.7/dist-packages (from pooch>=1.0->librosa) (2.23.0)\n",
            "Requirement already satisfied: pycparser in /usr/local/lib/python3.7/dist-packages (from cffi>=1.0->soundfile>=0.9.0->librosa) (2.20)\n",
            "Requirement already satisfied: pyparsing>=2.0.2 in /usr/local/lib/python3.7/dist-packages (from packaging->pooch>=1.0->librosa) (2.4.7)\n",
            "Requirement already satisfied: certifi>=2017.4.17 in /usr/local/lib/python3.7/dist-packages (from requests->pooch>=1.0->librosa) (2020.12.5)\n",
            "Requirement already satisfied: chardet<4,>=3.0.2 in /usr/local/lib/python3.7/dist-packages (from requests->pooch>=1.0->librosa) (3.0.4)\n",
            "Requirement already satisfied: idna<3,>=2.5 in /usr/local/lib/python3.7/dist-packages (from requests->pooch>=1.0->librosa) (2.10)\n",
            "Requirement already satisfied: urllib3!=1.25.0,!=1.25.1,<1.26,>=1.21.1 in /usr/local/lib/python3.7/dist-packages (from requests->pooch>=1.0->librosa) (1.24.3)\n"
          ],
          "name": "stdout"
        }
      ]
    },
    {
      "cell_type": "markdown",
      "metadata": {
        "id": "qA-HviGXfnAK"
      },
      "source": [
        "Installind speech recognition"
      ]
    },
    {
      "cell_type": "code",
      "metadata": {
        "id": "hZ348CJjd75X"
      },
      "source": [
        "!pip install SpeechRecognition"
      ],
      "execution_count": null,
      "outputs": []
    },
    {
      "cell_type": "markdown",
      "metadata": {
        "id": "bYisnMgzfqfm"
      },
      "source": [
        "Speech to text"
      ]
    },
    {
      "cell_type": "code",
      "metadata": {
        "id": "EloIzBEsd8nV"
      },
      "source": [
        "import speech_recognition as sr\n",
        "r=sr.Recognizer()\n",
        "for file in range(0 , len(listOfFiles) , 1):\n",
        "    with sr.AudioFile(listOfFiles[file]) as source:\n",
        "        audio = r.listen(source)\n",
        "        try:\n",
        "            text = r.recognize_google(audio)\n",
        "            print(text)\n",
        "        except:\n",
        "            print('error')"
      ],
      "execution_count": null,
      "outputs": []
    },
    {
      "cell_type": "markdown",
      "metadata": {
        "id": "AOBIuZAMfs5G"
      },
      "source": [
        "Plotting time graph"
      ]
    },
    {
      "cell_type": "code",
      "metadata": {
        "id": "8-qtT3sWeBbB"
      },
      "source": [
        "\n",
        "#Plotting the Basic Graphs for understanding of Audio Files :\n",
        "for file in range(0 , len(listOfFiles) , 1):\n",
        "    audio , sfreq = lr.load(listOfFiles[file])\n",
        "    time = np.arange(0 , len(audio)) / sfreq\n",
        "    fig ,ax = plt.subplots()\n",
        "    ax.plot(time , audio)\n",
        "    ax.set(xlabel = 'Time (s)' , ylabel = 'Sound Amplitude')\n",
        "    plt.show()"
      ],
      "execution_count": null,
      "outputs": []
    },
    {
      "cell_type": "markdown",
      "metadata": {
        "id": "eQyx5DZmfvm9"
      },
      "source": [
        "MLP classifier"
      ]
    },
    {
      "cell_type": "code",
      "metadata": {
        "id": "LghYw4f-eQJo"
      },
      "source": [
        "import librosa\n",
        "import soundfile\n",
        "import os, glob, pickle\n",
        "import numpy as np\n",
        "from sklearn.model_selection import train_test_split\n",
        "from sklearn.neural_network import MLPClassifier\n",
        "from sklearn.metrics import accuracy_score"
      ],
      "execution_count": null,
      "outputs": []
    },
    {
      "cell_type": "code",
      "metadata": {
        "id": "R29w5SkzeY7y"
      },
      "source": [
        "def extract_feature(file_name, mfcc, chroma, mel):\n",
        "    X, sample_rate = librosa.load(os.path.join(file_name), res_type='kaiser_fast')\n",
        "    if chroma:\n",
        "        stft=np.abs(librosa.stft(X))\n",
        "    result=np.array([])\n",
        "    if mfcc:\n",
        "        mfccs=np.mean(librosa.feature.mfcc(y=X, sr=sample_rate, n_mfcc=40).T, axis=0)\n",
        "        result=np.hstack((result, mfccs))\n",
        "    if chroma:\n",
        "        chroma=np.mean(librosa.feature.chroma_stft(S=stft, sr=sample_rate).T,axis=0)\n",
        "        result=np.hstack((result, chroma))\n",
        "    if mel:\n",
        "        mel=np.mean(librosa.feature.melspectrogram(X, sr=sample_rate).T,axis=0)\n",
        "        result=np.hstack((result, mel))\n",
        "    return result"
      ],
      "execution_count": null,
      "outputs": []
    },
    {
      "cell_type": "code",
      "metadata": {
        "id": "lK6DvyIKea59"
      },
      "source": [
        "# Emotions in the RAVDESS & TESS dataset\n",
        "emotions={\n",
        "  '01':'neutral',\n",
        "  '02':'calm',\n",
        "  '03':'happy',\n",
        "  '04':'sad',\n",
        "  '05':'angry',\n",
        "  '06':'fearful',\n",
        "  '07':'disgust',\n",
        "  '08':'surprised'\n",
        "}\n",
        "# Emotions to observe\n",
        "observed_emotions=['neutral','calm','happy','sad','angry','fearful', 'disgust','surprised']"
      ],
      "execution_count": null,
      "outputs": []
    },
    {
      "cell_type": "code",
      "metadata": {
        "id": "OZAgw6BYedMJ"
      },
      "source": [
        "def load_data(test_size=0.2):\n",
        "    x,y=[],[]\n",
        "    for file in glob.glob('/content/drive/MyDrive/Speech123/Actor*/*.wav'):\n",
        "        file_name=os.path.basename(file)\n",
        "        emotion=emotions[file_name.split(\"-\")[2]]\n",
        "        if emotion not in observed_emotions:\n",
        "            continue\n",
        "        feature=extract_feature(file, mfcc=True, chroma=True, mel=True)\n",
        "        x.append(feature)\n",
        "        y.append(emotion)\n",
        "    return train_test_split(np.array(x), y, test_size=test_size, train_size= 0.75,random_state=9)"
      ],
      "execution_count": null,
      "outputs": []
    },
    {
      "cell_type": "code",
      "metadata": {
        "id": "rfpRaVtcefOs"
      },
      "source": [
        "import time\n",
        "x_train,x_test,y_train,y_test=load_data(test_size=0.25)"
      ],
      "execution_count": null,
      "outputs": []
    },
    {
      "cell_type": "code",
      "metadata": {
        "id": "gxsW3U9rehGQ"
      },
      "source": [
        "print((x_train.shape[0], x_test.shape[0]))"
      ],
      "execution_count": null,
      "outputs": []
    },
    {
      "cell_type": "code",
      "metadata": {
        "id": "sgp-00MPei8u"
      },
      "source": [
        "print(f'Features extracted: {x_train.shape[1]}')"
      ],
      "execution_count": null,
      "outputs": []
    },
    {
      "cell_type": "code",
      "metadata": {
        "id": "RI_Xcd06eki7"
      },
      "source": [
        "model=MLPClassifier(alpha=0.01, batch_size=256, epsilon=1e-08, hidden_layer_sizes=(300,), learning_rate='adaptive', max_iter=500)"
      ],
      "execution_count": null,
      "outputs": []
    },
    {
      "cell_type": "code",
      "metadata": {
        "id": "zupFV0wOenRX"
      },
      "source": [
        "model.fit(x_train,y_train)\n",
        "y_pred=model.predict(x_test)"
      ],
      "execution_count": null,
      "outputs": []
    },
    {
      "cell_type": "code",
      "metadata": {
        "id": "Nq6sHoPoerdf"
      },
      "source": [
        "accuracy=accuracy_score(y_true=y_test, y_pred=y_pred)\n",
        "# Print the accuracy\n",
        "print(\"Accuracy: {:.2f}%\".format(accuracy*100))"
      ],
      "execution_count": null,
      "outputs": []
    },
    {
      "cell_type": "code",
      "metadata": {
        "id": "GM6xcJCvesTo"
      },
      "source": [
        "from sklearn.metrics import classification_report\n",
        "print(classification_report(y_test,y_pred))"
      ],
      "execution_count": null,
      "outputs": []
    },
    {
      "cell_type": "code",
      "metadata": {
        "colab": {
          "base_uri": "https://localhost:8080/"
        },
        "id": "s9TAoDgmIeIe",
        "outputId": "24ec0757-e1ce-4164-a403-e3794dc733b3"
      },
      "source": [
        "import time\n",
        "import os\n",
        "import librosa\n",
        "import numpy as np\n",
        "path = '/content/drive/MyDrive/Speech123/'\n",
        "lst = []\n",
        "\n",
        "start_time = time.time()\n",
        "\n",
        "for subdir, dirs, files in os.walk(path):\n",
        "  for file in files:\n",
        "      try:\n",
        "        #Load librosa array, obtain mfccs, store the file and the mfccs information in a new array\n",
        "        X, sample_rate = librosa.load(os.path.join(subdir,file), res_type='kaiser_fast')\n",
        "        mfccs = np.mean(librosa.feature.mfcc(y=X, sr=sample_rate, n_mfcc=40).T,axis=0) \n",
        "        # The instruction below converts the labels (from 1 to 8) to a series from 0 to 7\n",
        "        # This is because our predictor needs to start from 0 otherwise it will try to predict also 0.\n",
        "        file = int(file[7:8]) - 1 \n",
        "        arr = mfccs, file\n",
        "        lst.append(arr)\n",
        "      # If the file is not valid, skip it\n",
        "      except ValueError:\n",
        "        continue\n",
        "\n",
        "print(\"--- Data loaded. Loading time: %s seconds ---\" % (time.time() - start_time))"
      ],
      "execution_count": null,
      "outputs": [
        {
          "output_type": "stream",
          "text": [
            "--- Data loaded. Loading time: 1379.7502818107605 seconds ---\n"
          ],
          "name": "stdout"
        }
      ]
    },
    {
      "cell_type": "code",
      "metadata": {
        "id": "3nWbzdnBIiCp"
      },
      "source": [
        "X, y = zip(*lst)"
      ],
      "execution_count": null,
      "outputs": []
    },
    {
      "cell_type": "code",
      "metadata": {
        "colab": {
          "base_uri": "https://localhost:8080/"
        },
        "id": "ZSmIUX-ZIkin",
        "outputId": "b8d1e1d7-6b96-43a6-a393-fad2670c2140"
      },
      "source": [
        "import numpy as np\n",
        "X = np.asarray(X)\n",
        "y = np.asarray(y)\n",
        "X.shape, y.shape"
      ],
      "execution_count": null,
      "outputs": [
        {
          "output_type": "execute_result",
          "data": {
            "text/plain": [
              "((2880, 40), (2880,))"
            ]
          },
          "metadata": {
            "tags": []
          },
          "execution_count": 5
        }
      ]
    },
    {
      "cell_type": "code",
      "metadata": {
        "id": "-qgECKECImpT"
      },
      "source": [
        "import joblib\n",
        "\n",
        "X_name = 'X.joblib'\n",
        "y_name = 'y.joblib'\n",
        "save_dir = '/content/drive/MyDrive/Ravdess_model'\n",
        "\n",
        "savedX = joblib.dump(X, os.path.join(save_dir, X_name))\n",
        "savedy = joblib.dump(y, os.path.join(save_dir, y_name))"
      ],
      "execution_count": null,
      "outputs": []
    },
    {
      "cell_type": "code",
      "metadata": {
        "id": "47zEllHHIqKQ"
      },
      "source": [
        "import joblib\n",
        "X = joblib.load('/content/drive/My Drive/Ravdess_model/X.joblib')\n",
        "y = joblib.load('/content/drive/My Drive/Ravdess_model/y.joblib')"
      ],
      "execution_count": null,
      "outputs": []
    },
    {
      "cell_type": "code",
      "metadata": {
        "id": "bwans_y1Isnx"
      },
      "source": [
        "from sklearn.model_selection import train_test_split\n",
        "\n",
        "X_train, X_test, y_train, y_test = train_test_split(X,y, test_size=0.33, random_state=42)"
      ],
      "execution_count": null,
      "outputs": []
    },
    {
      "cell_type": "code",
      "metadata": {
        "colab": {
          "base_uri": "https://localhost:8080/"
        },
        "id": "6EyDsd3mIusd",
        "outputId": "753091ea-6b89-4341-84ea-9be7372c3eab"
      },
      "source": [
        "from sklearn.tree import DecisionTreeClassifier\n",
        "dtree = DecisionTreeClassifier()\n",
        "dtree.fit(X_train, y_train)"
      ],
      "execution_count": null,
      "outputs": [
        {
          "output_type": "execute_result",
          "data": {
            "text/plain": [
              "DecisionTreeClassifier(ccp_alpha=0.0, class_weight=None, criterion='gini',\n",
              "                       max_depth=None, max_features=None, max_leaf_nodes=None,\n",
              "                       min_impurity_decrease=0.0, min_impurity_split=None,\n",
              "                       min_samples_leaf=1, min_samples_split=2,\n",
              "                       min_weight_fraction_leaf=0.0, presort='deprecated',\n",
              "                       random_state=None, splitter='best')"
            ]
          },
          "metadata": {
            "tags": []
          },
          "execution_count": 15
        }
      ]
    },
    {
      "cell_type": "code",
      "metadata": {
        "id": "VZdp7OkJIxPX"
      },
      "source": [
        "predictions = dtree.predict(X_test)"
      ],
      "execution_count": null,
      "outputs": []
    },
    {
      "cell_type": "code",
      "metadata": {
        "colab": {
          "base_uri": "https://localhost:8080/"
        },
        "id": "10hYr_INIz8X",
        "outputId": "0ff86ea3-beb9-4c28-b593-5962fb11892f"
      },
      "source": [
        "from sklearn.metrics import classification_report,confusion_matrix\n",
        "print(classification_report(y_test,predictions))"
      ],
      "execution_count": null,
      "outputs": [
        {
          "output_type": "stream",
          "text": [
            "              precision    recall  f1-score   support\n",
            "\n",
            "           0       0.79      0.68      0.73        68\n",
            "           1       0.84      0.80      0.82       142\n",
            "           2       0.75      0.85      0.80       108\n",
            "           3       0.90      0.80      0.85       132\n",
            "           4       0.78      0.91      0.84       127\n",
            "           5       0.74      0.82      0.78       112\n",
            "           6       0.75      0.79      0.77       136\n",
            "           7       0.88      0.71      0.79       126\n",
            "\n",
            "    accuracy                           0.80       951\n",
            "   macro avg       0.81      0.80      0.80       951\n",
            "weighted avg       0.81      0.80      0.80       951\n",
            "\n"
          ],
          "name": "stdout"
        }
      ]
    },
    {
      "cell_type": "code",
      "metadata": {
        "id": "FDUeODV8I2C-"
      },
      "source": [
        "import numpy as np\n",
        "x_traincnn = np.expand_dims(X_train, axis=2)\n",
        "x_testcnn = np.expand_dims(X_test, axis=2)"
      ],
      "execution_count": null,
      "outputs": []
    },
    {
      "cell_type": "code",
      "metadata": {
        "colab": {
          "base_uri": "https://localhost:8080/"
        },
        "id": "55hJ3tIuI5qM",
        "outputId": "ac070ba3-8a28-422b-a6e5-e68116f16f75"
      },
      "source": [
        "x_traincnn.shape, x_testcnn.shape"
      ],
      "execution_count": null,
      "outputs": [
        {
          "output_type": "execute_result",
          "data": {
            "text/plain": [
              "((1929, 40, 1), (951, 40, 1))"
            ]
          },
          "metadata": {
            "tags": []
          },
          "execution_count": 20
        }
      ]
    },
    {
      "cell_type": "code",
      "metadata": {
        "id": "7cMUg4P2I-ze"
      },
      "source": [
        "import keras\n",
        "import numpy as np\n",
        "import matplotlib.pyplot as plt\n",
        "import tensorflow as tf\n",
        "from keras.preprocessing import sequence\n",
        "from keras.models import Sequential\n",
        "from keras.layers import Dense, Embedding\n",
        "from keras.utils import to_categorical\n",
        "from keras.layers import Input, Flatten, Dropout, Activation\n",
        "from keras.layers import Conv1D, MaxPooling1D\n",
        "from keras.models import Model\n",
        "from keras.callbacks import ModelCheckpoint\n",
        "\n",
        "model = Sequential()\n",
        "\n",
        "model.add(Conv1D(64, 5,padding='same',\n",
        "                 input_shape=(40,1)))\n",
        "model.add(Activation('relu'))\n",
        "model.add(Dropout(0.1))\n",
        "model.add(MaxPooling1D(pool_size=(4)))\n",
        "model.add(Conv1D(128, 5,padding='same',))\n",
        "model.add(Activation('relu'))\n",
        "model.add(Dropout(0.1))\n",
        "model.add(MaxPooling1D(pool_size=(4)))\n",
        "model.add(Conv1D(256, 5,padding='same',))\n",
        "model.add(Activation('relu'))\n",
        "model.add(Dropout(0.1))\n",
        "model.add(Flatten())\n",
        "model.add(Dense(8))\n",
        "model.add(Activation('softmax'))\n",
        "opt = tf.keras.optimizers.RMSprop(learning_rate=0.00005, rho=0.9, epsilon=1e-07)"
      ],
      "execution_count": null,
      "outputs": []
    },
    {
      "cell_type": "code",
      "metadata": {
        "colab": {
          "base_uri": "https://localhost:8080/"
        },
        "id": "5dwlufzsJBZh",
        "outputId": "b85985d0-6146-45e3-a057-5c39f8e808a5"
      },
      "source": [
        "model.summary()"
      ],
      "execution_count": null,
      "outputs": [
        {
          "output_type": "stream",
          "text": [
            "Model: \"sequential\"\n",
            "_________________________________________________________________\n",
            "Layer (type)                 Output Shape              Param #   \n",
            "=================================================================\n",
            "conv1d (Conv1D)              (None, 40, 64)            384       \n",
            "_________________________________________________________________\n",
            "activation (Activation)      (None, 40, 64)            0         \n",
            "_________________________________________________________________\n",
            "dropout (Dropout)            (None, 40, 64)            0         \n",
            "_________________________________________________________________\n",
            "max_pooling1d (MaxPooling1D) (None, 10, 64)            0         \n",
            "_________________________________________________________________\n",
            "conv1d_1 (Conv1D)            (None, 10, 128)           41088     \n",
            "_________________________________________________________________\n",
            "activation_1 (Activation)    (None, 10, 128)           0         \n",
            "_________________________________________________________________\n",
            "dropout_1 (Dropout)          (None, 10, 128)           0         \n",
            "_________________________________________________________________\n",
            "max_pooling1d_1 (MaxPooling1 (None, 2, 128)            0         \n",
            "_________________________________________________________________\n",
            "conv1d_2 (Conv1D)            (None, 2, 256)            164096    \n",
            "_________________________________________________________________\n",
            "activation_2 (Activation)    (None, 2, 256)            0         \n",
            "_________________________________________________________________\n",
            "dropout_2 (Dropout)          (None, 2, 256)            0         \n",
            "_________________________________________________________________\n",
            "flatten (Flatten)            (None, 512)               0         \n",
            "_________________________________________________________________\n",
            "dense (Dense)                (None, 8)                 4104      \n",
            "_________________________________________________________________\n",
            "activation_3 (Activation)    (None, 8)                 0         \n",
            "=================================================================\n",
            "Total params: 209,672\n",
            "Trainable params: 209,672\n",
            "Non-trainable params: 0\n",
            "_________________________________________________________________\n"
          ],
          "name": "stdout"
        }
      ]
    },
    {
      "cell_type": "code",
      "metadata": {
        "id": "0GoQV-jWJEpa"
      },
      "source": [
        "model.compile(loss='sparse_categorical_crossentropy',\n",
        "              optimizer=opt,\n",
        "              metrics=['accuracy'])"
      ],
      "execution_count": null,
      "outputs": []
    },
    {
      "cell_type": "code",
      "metadata": {
        "colab": {
          "base_uri": "https://localhost:8080/"
        },
        "id": "OVZzdsdxJHQF",
        "outputId": "fff62bf4-16d0-4e10-e428-fae0f9266504"
      },
      "source": [
        "cnnhistory=model.fit(x_traincnn, y_train, batch_size=16, epochs=300, validation_data=(x_testcnn, y_test))"
      ],
      "execution_count": null,
      "outputs": [
        {
          "output_type": "stream",
          "text": [
            "Epoch 1/300\n",
            "121/121 [==============================] - 2s 18ms/step - loss: 4.3095 - accuracy: 0.1291 - val_loss: 2.1065 - val_accuracy: 0.1851\n",
            "Epoch 2/300\n",
            "121/121 [==============================] - 2s 15ms/step - loss: 3.5768 - accuracy: 0.1327 - val_loss: 2.0213 - val_accuracy: 0.2082\n",
            "Epoch 3/300\n",
            "121/121 [==============================] - 2s 15ms/step - loss: 2.9780 - accuracy: 0.1659 - val_loss: 1.9382 - val_accuracy: 0.2566\n",
            "Epoch 4/300\n",
            "121/121 [==============================] - 2s 15ms/step - loss: 2.6544 - accuracy: 0.1763 - val_loss: 2.1182 - val_accuracy: 0.1851\n",
            "Epoch 5/300\n",
            "121/121 [==============================] - 2s 15ms/step - loss: 2.4333 - accuracy: 0.1903 - val_loss: 1.9258 - val_accuracy: 0.2303\n",
            "Epoch 6/300\n",
            "121/121 [==============================] - 2s 15ms/step - loss: 2.3357 - accuracy: 0.1840 - val_loss: 1.8973 - val_accuracy: 0.2576\n",
            "Epoch 7/300\n",
            "121/121 [==============================] - 2s 15ms/step - loss: 2.1459 - accuracy: 0.2188 - val_loss: 1.9584 - val_accuracy: 0.2187\n",
            "Epoch 8/300\n",
            "121/121 [==============================] - 2s 15ms/step - loss: 2.1036 - accuracy: 0.2234 - val_loss: 1.8941 - val_accuracy: 0.2324\n",
            "Epoch 9/300\n",
            "121/121 [==============================] - 2s 15ms/step - loss: 2.0780 - accuracy: 0.2364 - val_loss: 1.8638 - val_accuracy: 0.2881\n",
            "Epoch 10/300\n",
            "121/121 [==============================] - 2s 15ms/step - loss: 2.0234 - accuracy: 0.2369 - val_loss: 1.9006 - val_accuracy: 0.3207\n",
            "Epoch 11/300\n",
            "121/121 [==============================] - 2s 16ms/step - loss: 2.0099 - accuracy: 0.2328 - val_loss: 1.8437 - val_accuracy: 0.2955\n",
            "Epoch 12/300\n",
            "121/121 [==============================] - 2s 16ms/step - loss: 1.9974 - accuracy: 0.2354 - val_loss: 1.8138 - val_accuracy: 0.3354\n",
            "Epoch 13/300\n",
            "121/121 [==============================] - 2s 16ms/step - loss: 1.9469 - accuracy: 0.2545 - val_loss: 1.8219 - val_accuracy: 0.3249\n",
            "Epoch 14/300\n",
            "121/121 [==============================] - 2s 15ms/step - loss: 1.9349 - accuracy: 0.2701 - val_loss: 1.7936 - val_accuracy: 0.3701\n",
            "Epoch 15/300\n",
            "121/121 [==============================] - 2s 15ms/step - loss: 1.9085 - accuracy: 0.2649 - val_loss: 1.8178 - val_accuracy: 0.3113\n",
            "Epoch 16/300\n",
            "121/121 [==============================] - 2s 15ms/step - loss: 1.8946 - accuracy: 0.2680 - val_loss: 1.7789 - val_accuracy: 0.3460\n",
            "Epoch 17/300\n",
            "121/121 [==============================] - 2s 15ms/step - loss: 1.8940 - accuracy: 0.2748 - val_loss: 1.7728 - val_accuracy: 0.3575\n",
            "Epoch 18/300\n",
            "121/121 [==============================] - 2s 15ms/step - loss: 1.8579 - accuracy: 0.2825 - val_loss: 1.7463 - val_accuracy: 0.3481\n",
            "Epoch 19/300\n",
            "121/121 [==============================] - 2s 16ms/step - loss: 1.8618 - accuracy: 0.2908 - val_loss: 1.7814 - val_accuracy: 0.3344\n",
            "Epoch 20/300\n",
            "121/121 [==============================] - 2s 16ms/step - loss: 1.8356 - accuracy: 0.2934 - val_loss: 1.7448 - val_accuracy: 0.3554\n",
            "Epoch 21/300\n",
            "121/121 [==============================] - 2s 15ms/step - loss: 1.8504 - accuracy: 0.2950 - val_loss: 1.7510 - val_accuracy: 0.3302\n",
            "Epoch 22/300\n",
            "121/121 [==============================] - 2s 15ms/step - loss: 1.8349 - accuracy: 0.2976 - val_loss: 1.7258 - val_accuracy: 0.3638\n",
            "Epoch 23/300\n",
            "121/121 [==============================] - 2s 15ms/step - loss: 1.8195 - accuracy: 0.3043 - val_loss: 1.7278 - val_accuracy: 0.3775\n",
            "Epoch 24/300\n",
            "121/121 [==============================] - 2s 16ms/step - loss: 1.8129 - accuracy: 0.3126 - val_loss: 1.6921 - val_accuracy: 0.3901\n",
            "Epoch 25/300\n",
            "121/121 [==============================] - 2s 15ms/step - loss: 1.8023 - accuracy: 0.3204 - val_loss: 1.7122 - val_accuracy: 0.3733\n",
            "Epoch 26/300\n",
            "121/121 [==============================] - 2s 16ms/step - loss: 1.7930 - accuracy: 0.3193 - val_loss: 1.6781 - val_accuracy: 0.4017\n",
            "Epoch 27/300\n",
            "121/121 [==============================] - 2s 15ms/step - loss: 1.7582 - accuracy: 0.3313 - val_loss: 1.6652 - val_accuracy: 0.3985\n",
            "Epoch 28/300\n",
            "121/121 [==============================] - 2s 15ms/step - loss: 1.7595 - accuracy: 0.3364 - val_loss: 1.6788 - val_accuracy: 0.3838\n",
            "Epoch 29/300\n",
            "121/121 [==============================] - 2s 15ms/step - loss: 1.7516 - accuracy: 0.3390 - val_loss: 1.6589 - val_accuracy: 0.4122\n",
            "Epoch 30/300\n",
            "121/121 [==============================] - 2s 15ms/step - loss: 1.7321 - accuracy: 0.3339 - val_loss: 1.6902 - val_accuracy: 0.3407\n",
            "Epoch 31/300\n",
            "121/121 [==============================] - 2s 16ms/step - loss: 1.7496 - accuracy: 0.3224 - val_loss: 1.6382 - val_accuracy: 0.4080\n",
            "Epoch 32/300\n",
            "121/121 [==============================] - 2s 15ms/step - loss: 1.7252 - accuracy: 0.3339 - val_loss: 1.6160 - val_accuracy: 0.4027\n",
            "Epoch 33/300\n",
            "121/121 [==============================] - 2s 15ms/step - loss: 1.7238 - accuracy: 0.3458 - val_loss: 1.6477 - val_accuracy: 0.4017\n",
            "Epoch 34/300\n",
            "121/121 [==============================] - 2s 15ms/step - loss: 1.6814 - accuracy: 0.3541 - val_loss: 1.6140 - val_accuracy: 0.4101\n",
            "Epoch 35/300\n",
            "121/121 [==============================] - 2s 16ms/step - loss: 1.6872 - accuracy: 0.3644 - val_loss: 1.6188 - val_accuracy: 0.3933\n",
            "Epoch 36/300\n",
            "121/121 [==============================] - 2s 16ms/step - loss: 1.6779 - accuracy: 0.3572 - val_loss: 1.5864 - val_accuracy: 0.4238\n",
            "Epoch 37/300\n",
            "121/121 [==============================] - 2s 16ms/step - loss: 1.6789 - accuracy: 0.3598 - val_loss: 1.5748 - val_accuracy: 0.4385\n",
            "Epoch 38/300\n",
            "121/121 [==============================] - 2s 15ms/step - loss: 1.6710 - accuracy: 0.3572 - val_loss: 1.6033 - val_accuracy: 0.4059\n",
            "Epoch 39/300\n",
            "121/121 [==============================] - 2s 15ms/step - loss: 1.6525 - accuracy: 0.3774 - val_loss: 1.5554 - val_accuracy: 0.4458\n",
            "Epoch 40/300\n",
            "121/121 [==============================] - 2s 15ms/step - loss: 1.6601 - accuracy: 0.3733 - val_loss: 1.5629 - val_accuracy: 0.4059\n",
            "Epoch 41/300\n",
            "121/121 [==============================] - 2s 16ms/step - loss: 1.6571 - accuracy: 0.3691 - val_loss: 1.5578 - val_accuracy: 0.4206\n",
            "Epoch 42/300\n",
            "121/121 [==============================] - 2s 16ms/step - loss: 1.6296 - accuracy: 0.3898 - val_loss: 1.5727 - val_accuracy: 0.4280\n",
            "Epoch 43/300\n",
            "121/121 [==============================] - 2s 15ms/step - loss: 1.6098 - accuracy: 0.3961 - val_loss: 1.5514 - val_accuracy: 0.4238\n",
            "Epoch 44/300\n",
            "121/121 [==============================] - 2s 15ms/step - loss: 1.6070 - accuracy: 0.3904 - val_loss: 1.5287 - val_accuracy: 0.4343\n",
            "Epoch 45/300\n",
            "121/121 [==============================] - 2s 15ms/step - loss: 1.6084 - accuracy: 0.3857 - val_loss: 1.4991 - val_accuracy: 0.4532\n",
            "Epoch 46/300\n",
            "121/121 [==============================] - 2s 15ms/step - loss: 1.6040 - accuracy: 0.3857 - val_loss: 1.5170 - val_accuracy: 0.4458\n",
            "Epoch 47/300\n",
            "121/121 [==============================] - 2s 16ms/step - loss: 1.5963 - accuracy: 0.3904 - val_loss: 1.5286 - val_accuracy: 0.4427\n",
            "Epoch 48/300\n",
            "121/121 [==============================] - 2s 15ms/step - loss: 1.5742 - accuracy: 0.3997 - val_loss: 1.5551 - val_accuracy: 0.4143\n",
            "Epoch 49/300\n",
            "121/121 [==============================] - 2s 15ms/step - loss: 1.5842 - accuracy: 0.4007 - val_loss: 1.4840 - val_accuracy: 0.4522\n",
            "Epoch 50/300\n",
            "121/121 [==============================] - 2s 15ms/step - loss: 1.5592 - accuracy: 0.4235 - val_loss: 1.4658 - val_accuracy: 0.4606\n",
            "Epoch 51/300\n",
            "121/121 [==============================] - 2s 15ms/step - loss: 1.5737 - accuracy: 0.4090 - val_loss: 1.4595 - val_accuracy: 0.4763\n",
            "Epoch 52/300\n",
            "121/121 [==============================] - 2s 15ms/step - loss: 1.5450 - accuracy: 0.4126 - val_loss: 1.4554 - val_accuracy: 0.4742\n",
            "Epoch 53/300\n",
            "121/121 [==============================] - 2s 16ms/step - loss: 1.5306 - accuracy: 0.4168 - val_loss: 1.4459 - val_accuracy: 0.4711\n",
            "Epoch 54/300\n",
            "121/121 [==============================] - 2s 15ms/step - loss: 1.5177 - accuracy: 0.4215 - val_loss: 1.4699 - val_accuracy: 0.4458\n",
            "Epoch 55/300\n",
            "121/121 [==============================] - 2s 15ms/step - loss: 1.5249 - accuracy: 0.4422 - val_loss: 1.4277 - val_accuracy: 0.4742\n",
            "Epoch 56/300\n",
            "121/121 [==============================] - 2s 15ms/step - loss: 1.5022 - accuracy: 0.4453 - val_loss: 1.4241 - val_accuracy: 0.4669\n",
            "Epoch 57/300\n",
            "121/121 [==============================] - 2s 16ms/step - loss: 1.5006 - accuracy: 0.4277 - val_loss: 1.4071 - val_accuracy: 0.5016\n",
            "Epoch 58/300\n",
            "121/121 [==============================] - 2s 15ms/step - loss: 1.4924 - accuracy: 0.4469 - val_loss: 1.4169 - val_accuracy: 0.4921\n",
            "Epoch 59/300\n",
            "121/121 [==============================] - 2s 15ms/step - loss: 1.4745 - accuracy: 0.4417 - val_loss: 1.3954 - val_accuracy: 0.4879\n",
            "Epoch 60/300\n",
            "121/121 [==============================] - 2s 15ms/step - loss: 1.4679 - accuracy: 0.4557 - val_loss: 1.4123 - val_accuracy: 0.4795\n",
            "Epoch 61/300\n",
            "121/121 [==============================] - 2s 15ms/step - loss: 1.4568 - accuracy: 0.4495 - val_loss: 1.3641 - val_accuracy: 0.5068\n",
            "Epoch 62/300\n",
            "121/121 [==============================] - 2s 15ms/step - loss: 1.4514 - accuracy: 0.4562 - val_loss: 1.3721 - val_accuracy: 0.5110\n",
            "Epoch 63/300\n",
            "121/121 [==============================] - 2s 15ms/step - loss: 1.4543 - accuracy: 0.4484 - val_loss: 1.3687 - val_accuracy: 0.5100\n",
            "Epoch 64/300\n",
            "121/121 [==============================] - 2s 15ms/step - loss: 1.4504 - accuracy: 0.4624 - val_loss: 1.3878 - val_accuracy: 0.5005\n",
            "Epoch 65/300\n",
            "121/121 [==============================] - 2s 16ms/step - loss: 1.4294 - accuracy: 0.4619 - val_loss: 1.3670 - val_accuracy: 0.4942\n",
            "Epoch 66/300\n",
            "121/121 [==============================] - 2s 16ms/step - loss: 1.4177 - accuracy: 0.4666 - val_loss: 1.3441 - val_accuracy: 0.5037\n",
            "Epoch 67/300\n",
            "121/121 [==============================] - 2s 15ms/step - loss: 1.4128 - accuracy: 0.4645 - val_loss: 1.3604 - val_accuracy: 0.4837\n",
            "Epoch 68/300\n",
            "121/121 [==============================] - 2s 15ms/step - loss: 1.4013 - accuracy: 0.4738 - val_loss: 1.3317 - val_accuracy: 0.4963\n",
            "Epoch 69/300\n",
            "121/121 [==============================] - 2s 16ms/step - loss: 1.3966 - accuracy: 0.4738 - val_loss: 1.3196 - val_accuracy: 0.5352\n",
            "Epoch 70/300\n",
            "121/121 [==============================] - 2s 15ms/step - loss: 1.3927 - accuracy: 0.4816 - val_loss: 1.3409 - val_accuracy: 0.5068\n",
            "Epoch 71/300\n",
            "121/121 [==============================] - 2s 16ms/step - loss: 1.3806 - accuracy: 0.4894 - val_loss: 1.3181 - val_accuracy: 0.5121\n",
            "Epoch 72/300\n",
            "121/121 [==============================] - 2s 15ms/step - loss: 1.3913 - accuracy: 0.4837 - val_loss: 1.2950 - val_accuracy: 0.5321\n",
            "Epoch 73/300\n",
            "121/121 [==============================] - 2s 15ms/step - loss: 1.3689 - accuracy: 0.5044 - val_loss: 1.2975 - val_accuracy: 0.5342\n",
            "Epoch 74/300\n",
            "121/121 [==============================] - 2s 16ms/step - loss: 1.3557 - accuracy: 0.5065 - val_loss: 1.3017 - val_accuracy: 0.5310\n",
            "Epoch 75/300\n",
            "121/121 [==============================] - 2s 16ms/step - loss: 1.3578 - accuracy: 0.5008 - val_loss: 1.2939 - val_accuracy: 0.5163\n",
            "Epoch 76/300\n",
            "121/121 [==============================] - 2s 16ms/step - loss: 1.3459 - accuracy: 0.4961 - val_loss: 1.2734 - val_accuracy: 0.5394\n",
            "Epoch 77/300\n",
            "121/121 [==============================] - 2s 15ms/step - loss: 1.3102 - accuracy: 0.5246 - val_loss: 1.3097 - val_accuracy: 0.5195\n",
            "Epoch 78/300\n",
            "121/121 [==============================] - 2s 15ms/step - loss: 1.3301 - accuracy: 0.5174 - val_loss: 1.2847 - val_accuracy: 0.5100\n",
            "Epoch 79/300\n",
            "121/121 [==============================] - 2s 16ms/step - loss: 1.3298 - accuracy: 0.5013 - val_loss: 1.2583 - val_accuracy: 0.5426\n",
            "Epoch 80/300\n",
            "121/121 [==============================] - 2s 15ms/step - loss: 1.3059 - accuracy: 0.5236 - val_loss: 1.2425 - val_accuracy: 0.5426\n",
            "Epoch 81/300\n",
            "121/121 [==============================] - 2s 15ms/step - loss: 1.3029 - accuracy: 0.5210 - val_loss: 1.2654 - val_accuracy: 0.5363\n",
            "Epoch 82/300\n",
            "121/121 [==============================] - 2s 16ms/step - loss: 1.3000 - accuracy: 0.5194 - val_loss: 1.2505 - val_accuracy: 0.5352\n",
            "Epoch 83/300\n",
            "121/121 [==============================] - 2s 17ms/step - loss: 1.2932 - accuracy: 0.5210 - val_loss: 1.2296 - val_accuracy: 0.5794\n",
            "Epoch 84/300\n",
            "121/121 [==============================] - 2s 17ms/step - loss: 1.2715 - accuracy: 0.5397 - val_loss: 1.2349 - val_accuracy: 0.5415\n",
            "Epoch 85/300\n",
            "121/121 [==============================] - 2s 17ms/step - loss: 1.2725 - accuracy: 0.5241 - val_loss: 1.2140 - val_accuracy: 0.5521\n",
            "Epoch 86/300\n",
            "121/121 [==============================] - 2s 17ms/step - loss: 1.2472 - accuracy: 0.5438 - val_loss: 1.2233 - val_accuracy: 0.5226\n",
            "Epoch 87/300\n",
            "121/121 [==============================] - 2s 16ms/step - loss: 1.2621 - accuracy: 0.5412 - val_loss: 1.1920 - val_accuracy: 0.5699\n",
            "Epoch 88/300\n",
            "121/121 [==============================] - 2s 17ms/step - loss: 1.2323 - accuracy: 0.5391 - val_loss: 1.2005 - val_accuracy: 0.5668\n",
            "Epoch 89/300\n",
            "121/121 [==============================] - 2s 16ms/step - loss: 1.2360 - accuracy: 0.5557 - val_loss: 1.1918 - val_accuracy: 0.5731\n",
            "Epoch 90/300\n",
            "121/121 [==============================] - 2s 17ms/step - loss: 1.2311 - accuracy: 0.5578 - val_loss: 1.1711 - val_accuracy: 0.5868\n",
            "Epoch 91/300\n",
            "121/121 [==============================] - 2s 17ms/step - loss: 1.2334 - accuracy: 0.5469 - val_loss: 1.1968 - val_accuracy: 0.5825\n",
            "Epoch 92/300\n",
            "121/121 [==============================] - 2s 17ms/step - loss: 1.2270 - accuracy: 0.5562 - val_loss: 1.1841 - val_accuracy: 0.5668\n",
            "Epoch 93/300\n",
            "121/121 [==============================] - 2s 17ms/step - loss: 1.2246 - accuracy: 0.5599 - val_loss: 1.1703 - val_accuracy: 0.5973\n",
            "Epoch 94/300\n",
            "121/121 [==============================] - 2s 16ms/step - loss: 1.2087 - accuracy: 0.5573 - val_loss: 1.1724 - val_accuracy: 0.5857\n",
            "Epoch 95/300\n",
            "121/121 [==============================] - 2s 16ms/step - loss: 1.2196 - accuracy: 0.5583 - val_loss: 1.2028 - val_accuracy: 0.5563\n",
            "Epoch 96/300\n",
            "121/121 [==============================] - 2s 16ms/step - loss: 1.1930 - accuracy: 0.5562 - val_loss: 1.2145 - val_accuracy: 0.5426\n",
            "Epoch 97/300\n",
            "121/121 [==============================] - 2s 17ms/step - loss: 1.1680 - accuracy: 0.5702 - val_loss: 1.1543 - val_accuracy: 0.5920\n",
            "Epoch 98/300\n",
            "121/121 [==============================] - 2s 16ms/step - loss: 1.1789 - accuracy: 0.5666 - val_loss: 1.1360 - val_accuracy: 0.6025\n",
            "Epoch 99/300\n",
            "121/121 [==============================] - 2s 16ms/step - loss: 1.1920 - accuracy: 0.5754 - val_loss: 1.1646 - val_accuracy: 0.5594\n",
            "Epoch 100/300\n",
            "121/121 [==============================] - 2s 16ms/step - loss: 1.1564 - accuracy: 0.5759 - val_loss: 1.1912 - val_accuracy: 0.5731\n",
            "Epoch 101/300\n",
            "121/121 [==============================] - 2s 16ms/step - loss: 1.1542 - accuracy: 0.5625 - val_loss: 1.1273 - val_accuracy: 0.6067\n",
            "Epoch 102/300\n",
            "121/121 [==============================] - 2s 16ms/step - loss: 1.1418 - accuracy: 0.5625 - val_loss: 1.1456 - val_accuracy: 0.5699\n",
            "Epoch 103/300\n",
            "121/121 [==============================] - 2s 16ms/step - loss: 1.1497 - accuracy: 0.5837 - val_loss: 1.1491 - val_accuracy: 0.5899\n",
            "Epoch 104/300\n",
            "121/121 [==============================] - 2s 16ms/step - loss: 1.1483 - accuracy: 0.5863 - val_loss: 1.1535 - val_accuracy: 0.5710\n",
            "Epoch 105/300\n",
            "121/121 [==============================] - 2s 16ms/step - loss: 1.1453 - accuracy: 0.5910 - val_loss: 1.1149 - val_accuracy: 0.5920\n",
            "Epoch 106/300\n",
            "121/121 [==============================] - 2s 16ms/step - loss: 1.1398 - accuracy: 0.5837 - val_loss: 1.1374 - val_accuracy: 0.5857\n",
            "Epoch 107/300\n",
            "121/121 [==============================] - 2s 16ms/step - loss: 1.1304 - accuracy: 0.5998 - val_loss: 1.1180 - val_accuracy: 0.6120\n",
            "Epoch 108/300\n",
            "121/121 [==============================] - 2s 17ms/step - loss: 1.1208 - accuracy: 0.5863 - val_loss: 1.0891 - val_accuracy: 0.6236\n",
            "Epoch 109/300\n",
            "121/121 [==============================] - 2s 16ms/step - loss: 1.1259 - accuracy: 0.5874 - val_loss: 1.0826 - val_accuracy: 0.6183\n",
            "Epoch 110/300\n",
            "121/121 [==============================] - 2s 16ms/step - loss: 1.1312 - accuracy: 0.5884 - val_loss: 1.0677 - val_accuracy: 0.6477\n",
            "Epoch 111/300\n",
            "121/121 [==============================] - 2s 16ms/step - loss: 1.0951 - accuracy: 0.6091 - val_loss: 1.1100 - val_accuracy: 0.5868\n",
            "Epoch 112/300\n",
            "121/121 [==============================] - 2s 16ms/step - loss: 1.0741 - accuracy: 0.6086 - val_loss: 1.1155 - val_accuracy: 0.5910\n",
            "Epoch 113/300\n",
            "121/121 [==============================] - 2s 16ms/step - loss: 1.0930 - accuracy: 0.6003 - val_loss: 1.0858 - val_accuracy: 0.6078\n",
            "Epoch 114/300\n",
            "121/121 [==============================] - 2s 16ms/step - loss: 1.0589 - accuracy: 0.6128 - val_loss: 1.0743 - val_accuracy: 0.6141\n",
            "Epoch 115/300\n",
            "121/121 [==============================] - 2s 16ms/step - loss: 1.0822 - accuracy: 0.5993 - val_loss: 1.0670 - val_accuracy: 0.6078\n",
            "Epoch 116/300\n",
            "121/121 [==============================] - 2s 16ms/step - loss: 1.0773 - accuracy: 0.6185 - val_loss: 1.0528 - val_accuracy: 0.6330\n",
            "Epoch 117/300\n",
            "121/121 [==============================] - 2s 16ms/step - loss: 1.0727 - accuracy: 0.6039 - val_loss: 1.0495 - val_accuracy: 0.6278\n",
            "Epoch 118/300\n",
            "121/121 [==============================] - 2s 16ms/step - loss: 1.0582 - accuracy: 0.6153 - val_loss: 1.0468 - val_accuracy: 0.6330\n",
            "Epoch 119/300\n",
            "121/121 [==============================] - 2s 16ms/step - loss: 1.0446 - accuracy: 0.6247 - val_loss: 1.0660 - val_accuracy: 0.6120\n",
            "Epoch 120/300\n",
            "121/121 [==============================] - 2s 16ms/step - loss: 1.0493 - accuracy: 0.6195 - val_loss: 1.0434 - val_accuracy: 0.6309\n",
            "Epoch 121/300\n",
            "121/121 [==============================] - 2s 16ms/step - loss: 1.0430 - accuracy: 0.6174 - val_loss: 1.0222 - val_accuracy: 0.6404\n",
            "Epoch 122/300\n",
            "121/121 [==============================] - 2s 16ms/step - loss: 1.0271 - accuracy: 0.6319 - val_loss: 1.0366 - val_accuracy: 0.6540\n",
            "Epoch 123/300\n",
            "121/121 [==============================] - 2s 16ms/step - loss: 1.0230 - accuracy: 0.6335 - val_loss: 1.0483 - val_accuracy: 0.6215\n",
            "Epoch 124/300\n",
            "121/121 [==============================] - 2s 16ms/step - loss: 1.0325 - accuracy: 0.6309 - val_loss: 1.0688 - val_accuracy: 0.6278\n",
            "Epoch 125/300\n",
            "121/121 [==============================] - 2s 16ms/step - loss: 1.0226 - accuracy: 0.6309 - val_loss: 1.0483 - val_accuracy: 0.6215\n",
            "Epoch 126/300\n",
            "121/121 [==============================] - 2s 16ms/step - loss: 1.0016 - accuracy: 0.6366 - val_loss: 1.0040 - val_accuracy: 0.6488\n",
            "Epoch 127/300\n",
            "121/121 [==============================] - 2s 16ms/step - loss: 1.0019 - accuracy: 0.6397 - val_loss: 1.0428 - val_accuracy: 0.6215\n",
            "Epoch 128/300\n",
            "121/121 [==============================] - 2s 16ms/step - loss: 0.9872 - accuracy: 0.6542 - val_loss: 1.0102 - val_accuracy: 0.6446\n",
            "Epoch 129/300\n",
            "121/121 [==============================] - 2s 16ms/step - loss: 1.0029 - accuracy: 0.6335 - val_loss: 1.0098 - val_accuracy: 0.6362\n",
            "Epoch 130/300\n",
            "121/121 [==============================] - 2s 16ms/step - loss: 1.0052 - accuracy: 0.6345 - val_loss: 1.0006 - val_accuracy: 0.6635\n",
            "Epoch 131/300\n",
            "121/121 [==============================] - 2s 16ms/step - loss: 0.9706 - accuracy: 0.6563 - val_loss: 1.0130 - val_accuracy: 0.6456\n",
            "Epoch 132/300\n",
            "121/121 [==============================] - 2s 16ms/step - loss: 0.9731 - accuracy: 0.6376 - val_loss: 0.9953 - val_accuracy: 0.6509\n",
            "Epoch 133/300\n",
            "121/121 [==============================] - 2s 16ms/step - loss: 0.9810 - accuracy: 0.6449 - val_loss: 1.0047 - val_accuracy: 0.6435\n",
            "Epoch 134/300\n",
            "121/121 [==============================] - 2s 16ms/step - loss: 0.9717 - accuracy: 0.6532 - val_loss: 0.9708 - val_accuracy: 0.6698\n",
            "Epoch 135/300\n",
            "121/121 [==============================] - 2s 16ms/step - loss: 0.9649 - accuracy: 0.6542 - val_loss: 0.9648 - val_accuracy: 0.6740\n",
            "Epoch 136/300\n",
            "121/121 [==============================] - 2s 16ms/step - loss: 0.9560 - accuracy: 0.6475 - val_loss: 0.9768 - val_accuracy: 0.6761\n",
            "Epoch 137/300\n",
            "121/121 [==============================] - 2s 16ms/step - loss: 0.9414 - accuracy: 0.6630 - val_loss: 0.9638 - val_accuracy: 0.6614\n",
            "Epoch 138/300\n",
            "121/121 [==============================] - 2s 16ms/step - loss: 0.9374 - accuracy: 0.6625 - val_loss: 0.9537 - val_accuracy: 0.6730\n",
            "Epoch 139/300\n",
            "121/121 [==============================] - 2s 17ms/step - loss: 0.9361 - accuracy: 0.6610 - val_loss: 0.9391 - val_accuracy: 0.6835\n",
            "Epoch 140/300\n",
            "121/121 [==============================] - 2s 16ms/step - loss: 0.9088 - accuracy: 0.6776 - val_loss: 0.9849 - val_accuracy: 0.6583\n",
            "Epoch 141/300\n",
            "121/121 [==============================] - 2s 16ms/step - loss: 0.9162 - accuracy: 0.6620 - val_loss: 0.9309 - val_accuracy: 0.6856\n",
            "Epoch 142/300\n",
            "121/121 [==============================] - 2s 16ms/step - loss: 0.9271 - accuracy: 0.6527 - val_loss: 0.9427 - val_accuracy: 0.6772\n",
            "Epoch 143/300\n",
            "121/121 [==============================] - 2s 16ms/step - loss: 0.9230 - accuracy: 0.6661 - val_loss: 0.9779 - val_accuracy: 0.6225\n",
            "Epoch 144/300\n",
            "121/121 [==============================] - 2s 17ms/step - loss: 0.9151 - accuracy: 0.6599 - val_loss: 0.9317 - val_accuracy: 0.6993\n",
            "Epoch 145/300\n",
            "121/121 [==============================] - 2s 16ms/step - loss: 0.9084 - accuracy: 0.6853 - val_loss: 0.9283 - val_accuracy: 0.6835\n",
            "Epoch 146/300\n",
            "121/121 [==============================] - 2s 16ms/step - loss: 0.8924 - accuracy: 0.6791 - val_loss: 0.9329 - val_accuracy: 0.6698\n",
            "Epoch 147/300\n",
            "121/121 [==============================] - 2s 16ms/step - loss: 0.8953 - accuracy: 0.6713 - val_loss: 0.9190 - val_accuracy: 0.7056\n",
            "Epoch 148/300\n",
            "121/121 [==============================] - 2s 17ms/step - loss: 0.8896 - accuracy: 0.6884 - val_loss: 0.9106 - val_accuracy: 0.6972\n",
            "Epoch 149/300\n",
            "121/121 [==============================] - 2s 16ms/step - loss: 0.8632 - accuracy: 0.6900 - val_loss: 0.9681 - val_accuracy: 0.6562\n",
            "Epoch 150/300\n",
            "121/121 [==============================] - 2s 16ms/step - loss: 0.9061 - accuracy: 0.6744 - val_loss: 0.9253 - val_accuracy: 0.7024\n",
            "Epoch 151/300\n",
            "121/121 [==============================] - 2s 16ms/step - loss: 0.8940 - accuracy: 0.6734 - val_loss: 0.9181 - val_accuracy: 0.7014\n",
            "Epoch 152/300\n",
            "121/121 [==============================] - 2s 16ms/step - loss: 0.8625 - accuracy: 0.6770 - val_loss: 0.9188 - val_accuracy: 0.6740\n",
            "Epoch 153/300\n",
            "121/121 [==============================] - 2s 17ms/step - loss: 0.8643 - accuracy: 0.6843 - val_loss: 0.9228 - val_accuracy: 0.6635\n",
            "Epoch 154/300\n",
            "121/121 [==============================] - 2s 16ms/step - loss: 0.8515 - accuracy: 0.6879 - val_loss: 0.9197 - val_accuracy: 0.6972\n",
            "Epoch 155/300\n",
            "121/121 [==============================] - 2s 16ms/step - loss: 0.8670 - accuracy: 0.6827 - val_loss: 0.9261 - val_accuracy: 0.6898\n",
            "Epoch 156/300\n",
            "121/121 [==============================] - 2s 16ms/step - loss: 0.8541 - accuracy: 0.6895 - val_loss: 0.9151 - val_accuracy: 0.6772\n",
            "Epoch 157/300\n",
            "121/121 [==============================] - 2s 16ms/step - loss: 0.8500 - accuracy: 0.6957 - val_loss: 0.8852 - val_accuracy: 0.7098\n",
            "Epoch 158/300\n",
            "121/121 [==============================] - 2s 16ms/step - loss: 0.8314 - accuracy: 0.7009 - val_loss: 0.9206 - val_accuracy: 0.6940\n",
            "Epoch 159/300\n",
            "121/121 [==============================] - 2s 16ms/step - loss: 0.8401 - accuracy: 0.6910 - val_loss: 0.8686 - val_accuracy: 0.7087\n",
            "Epoch 160/300\n",
            "121/121 [==============================] - 2s 17ms/step - loss: 0.8254 - accuracy: 0.6941 - val_loss: 0.8965 - val_accuracy: 0.6919\n",
            "Epoch 161/300\n",
            "121/121 [==============================] - 2s 16ms/step - loss: 0.8373 - accuracy: 0.6952 - val_loss: 0.8998 - val_accuracy: 0.6993\n",
            "Epoch 162/300\n",
            "121/121 [==============================] - 2s 16ms/step - loss: 0.8141 - accuracy: 0.7185 - val_loss: 0.8625 - val_accuracy: 0.7119\n",
            "Epoch 163/300\n",
            "121/121 [==============================] - 2s 16ms/step - loss: 0.8275 - accuracy: 0.7035 - val_loss: 0.8588 - val_accuracy: 0.7150\n",
            "Epoch 164/300\n",
            "121/121 [==============================] - 2s 16ms/step - loss: 0.8288 - accuracy: 0.7118 - val_loss: 0.8554 - val_accuracy: 0.7308\n",
            "Epoch 165/300\n",
            "121/121 [==============================] - 2s 17ms/step - loss: 0.8144 - accuracy: 0.7097 - val_loss: 0.8906 - val_accuracy: 0.7056\n",
            "Epoch 166/300\n",
            "121/121 [==============================] - 2s 16ms/step - loss: 0.7874 - accuracy: 0.7252 - val_loss: 0.8500 - val_accuracy: 0.7287\n",
            "Epoch 167/300\n",
            "121/121 [==============================] - 2s 17ms/step - loss: 0.7760 - accuracy: 0.7263 - val_loss: 0.8419 - val_accuracy: 0.7203\n",
            "Epoch 168/300\n",
            "121/121 [==============================] - 2s 16ms/step - loss: 0.8108 - accuracy: 0.6952 - val_loss: 0.8453 - val_accuracy: 0.7319\n",
            "Epoch 169/300\n",
            "121/121 [==============================] - 2s 16ms/step - loss: 0.7701 - accuracy: 0.7263 - val_loss: 0.8634 - val_accuracy: 0.7098\n",
            "Epoch 170/300\n",
            "121/121 [==============================] - 2s 17ms/step - loss: 0.7969 - accuracy: 0.7133 - val_loss: 0.8570 - val_accuracy: 0.7203\n",
            "Epoch 171/300\n",
            "121/121 [==============================] - 2s 16ms/step - loss: 0.7788 - accuracy: 0.7087 - val_loss: 0.8535 - val_accuracy: 0.7213\n",
            "Epoch 172/300\n",
            "121/121 [==============================] - 2s 16ms/step - loss: 0.7700 - accuracy: 0.7221 - val_loss: 0.8944 - val_accuracy: 0.7077\n",
            "Epoch 173/300\n",
            "121/121 [==============================] - 2s 16ms/step - loss: 0.7782 - accuracy: 0.7128 - val_loss: 0.8520 - val_accuracy: 0.7108\n",
            "Epoch 174/300\n",
            "121/121 [==============================] - 2s 16ms/step - loss: 0.7887 - accuracy: 0.7107 - val_loss: 0.8252 - val_accuracy: 0.7256\n",
            "Epoch 175/300\n",
            "121/121 [==============================] - 2s 16ms/step - loss: 0.7593 - accuracy: 0.7315 - val_loss: 0.8182 - val_accuracy: 0.7213\n",
            "Epoch 176/300\n",
            "121/121 [==============================] - 2s 16ms/step - loss: 0.7546 - accuracy: 0.7387 - val_loss: 0.8162 - val_accuracy: 0.7350\n",
            "Epoch 177/300\n",
            "121/121 [==============================] - 2s 16ms/step - loss: 0.7626 - accuracy: 0.7195 - val_loss: 0.8604 - val_accuracy: 0.7066\n",
            "Epoch 178/300\n",
            "121/121 [==============================] - 2s 16ms/step - loss: 0.7690 - accuracy: 0.7180 - val_loss: 0.8369 - val_accuracy: 0.7066\n",
            "Epoch 179/300\n",
            "121/121 [==============================] - 2s 17ms/step - loss: 0.7516 - accuracy: 0.7273 - val_loss: 0.8431 - val_accuracy: 0.6982\n",
            "Epoch 180/300\n",
            "121/121 [==============================] - 2s 17ms/step - loss: 0.7358 - accuracy: 0.7320 - val_loss: 0.8224 - val_accuracy: 0.7298\n",
            "Epoch 181/300\n",
            "121/121 [==============================] - 2s 16ms/step - loss: 0.7464 - accuracy: 0.7320 - val_loss: 0.8376 - val_accuracy: 0.7245\n",
            "Epoch 182/300\n",
            "121/121 [==============================] - 2s 16ms/step - loss: 0.7390 - accuracy: 0.7242 - val_loss: 0.7935 - val_accuracy: 0.7350\n",
            "Epoch 183/300\n",
            "121/121 [==============================] - 2s 16ms/step - loss: 0.7381 - accuracy: 0.7232 - val_loss: 0.7915 - val_accuracy: 0.7424\n",
            "Epoch 184/300\n",
            "121/121 [==============================] - 2s 17ms/step - loss: 0.7194 - accuracy: 0.7434 - val_loss: 0.8103 - val_accuracy: 0.7403\n",
            "Epoch 185/300\n",
            "121/121 [==============================] - 2s 16ms/step - loss: 0.7244 - accuracy: 0.7356 - val_loss: 0.7975 - val_accuracy: 0.7340\n",
            "Epoch 186/300\n",
            "121/121 [==============================] - 2s 17ms/step - loss: 0.7256 - accuracy: 0.7372 - val_loss: 0.8144 - val_accuracy: 0.7287\n",
            "Epoch 187/300\n",
            "121/121 [==============================] - 2s 17ms/step - loss: 0.7258 - accuracy: 0.7506 - val_loss: 0.7929 - val_accuracy: 0.7371\n",
            "Epoch 188/300\n",
            "121/121 [==============================] - 2s 17ms/step - loss: 0.7066 - accuracy: 0.7470 - val_loss: 0.7711 - val_accuracy: 0.7529\n",
            "Epoch 189/300\n",
            "121/121 [==============================] - 2s 17ms/step - loss: 0.6993 - accuracy: 0.7589 - val_loss: 0.8284 - val_accuracy: 0.7140\n",
            "Epoch 190/300\n",
            "121/121 [==============================] - 2s 17ms/step - loss: 0.6989 - accuracy: 0.7491 - val_loss: 0.7742 - val_accuracy: 0.7466\n",
            "Epoch 191/300\n",
            "121/121 [==============================] - 2s 17ms/step - loss: 0.6977 - accuracy: 0.7543 - val_loss: 0.7663 - val_accuracy: 0.7508\n",
            "Epoch 192/300\n",
            "121/121 [==============================] - 2s 16ms/step - loss: 0.6945 - accuracy: 0.7496 - val_loss: 0.7735 - val_accuracy: 0.7487\n",
            "Epoch 193/300\n",
            "121/121 [==============================] - 2s 16ms/step - loss: 0.6984 - accuracy: 0.7470 - val_loss: 0.8069 - val_accuracy: 0.7392\n",
            "Epoch 194/300\n",
            "121/121 [==============================] - 2s 16ms/step - loss: 0.6606 - accuracy: 0.7652 - val_loss: 0.7746 - val_accuracy: 0.7382\n",
            "Epoch 195/300\n",
            "121/121 [==============================] - 2s 16ms/step - loss: 0.6798 - accuracy: 0.7626 - val_loss: 0.7644 - val_accuracy: 0.7340\n",
            "Epoch 196/300\n",
            "121/121 [==============================] - 2s 16ms/step - loss: 0.6575 - accuracy: 0.7693 - val_loss: 0.7655 - val_accuracy: 0.7350\n",
            "Epoch 197/300\n",
            "121/121 [==============================] - 2s 16ms/step - loss: 0.6936 - accuracy: 0.7548 - val_loss: 0.7602 - val_accuracy: 0.7424\n",
            "Epoch 198/300\n",
            "121/121 [==============================] - 2s 17ms/step - loss: 0.6874 - accuracy: 0.7667 - val_loss: 0.7589 - val_accuracy: 0.7592\n",
            "Epoch 199/300\n",
            "121/121 [==============================] - 2s 17ms/step - loss: 0.6770 - accuracy: 0.7724 - val_loss: 0.7620 - val_accuracy: 0.7434\n",
            "Epoch 200/300\n",
            "121/121 [==============================] - 2s 17ms/step - loss: 0.6770 - accuracy: 0.7646 - val_loss: 0.7540 - val_accuracy: 0.7560\n",
            "Epoch 201/300\n",
            "121/121 [==============================] - 2s 16ms/step - loss: 0.6324 - accuracy: 0.7911 - val_loss: 0.7752 - val_accuracy: 0.7361\n",
            "Epoch 202/300\n",
            "121/121 [==============================] - 2s 16ms/step - loss: 0.6781 - accuracy: 0.7703 - val_loss: 0.7460 - val_accuracy: 0.7655\n",
            "Epoch 203/300\n",
            "121/121 [==============================] - 2s 17ms/step - loss: 0.6477 - accuracy: 0.7703 - val_loss: 0.7305 - val_accuracy: 0.7560\n",
            "Epoch 204/300\n",
            "121/121 [==============================] - 2s 17ms/step - loss: 0.6358 - accuracy: 0.7740 - val_loss: 0.7757 - val_accuracy: 0.7424\n",
            "Epoch 205/300\n",
            "121/121 [==============================] - 2s 16ms/step - loss: 0.6434 - accuracy: 0.7760 - val_loss: 0.7278 - val_accuracy: 0.7697\n",
            "Epoch 206/300\n",
            "121/121 [==============================] - 2s 16ms/step - loss: 0.6275 - accuracy: 0.7828 - val_loss: 0.7383 - val_accuracy: 0.7613\n",
            "Epoch 207/300\n",
            "121/121 [==============================] - 2s 16ms/step - loss: 0.6185 - accuracy: 0.7880 - val_loss: 0.7685 - val_accuracy: 0.7350\n",
            "Epoch 208/300\n",
            "121/121 [==============================] - 2s 16ms/step - loss: 0.6547 - accuracy: 0.7652 - val_loss: 0.7785 - val_accuracy: 0.7371\n",
            "Epoch 209/300\n",
            "121/121 [==============================] - 2s 16ms/step - loss: 0.6277 - accuracy: 0.7724 - val_loss: 0.7176 - val_accuracy: 0.7697\n",
            "Epoch 210/300\n",
            "121/121 [==============================] - 2s 17ms/step - loss: 0.6025 - accuracy: 0.7947 - val_loss: 0.7322 - val_accuracy: 0.7508\n",
            "Epoch 211/300\n",
            "121/121 [==============================] - 2s 17ms/step - loss: 0.6351 - accuracy: 0.7807 - val_loss: 0.7416 - val_accuracy: 0.7603\n",
            "Epoch 212/300\n",
            "121/121 [==============================] - 2s 17ms/step - loss: 0.6128 - accuracy: 0.7869 - val_loss: 0.7274 - val_accuracy: 0.7624\n",
            "Epoch 213/300\n",
            "121/121 [==============================] - 2s 17ms/step - loss: 0.6192 - accuracy: 0.7833 - val_loss: 0.6967 - val_accuracy: 0.7813\n",
            "Epoch 214/300\n",
            "121/121 [==============================] - 2s 16ms/step - loss: 0.6207 - accuracy: 0.7729 - val_loss: 0.7422 - val_accuracy: 0.7613\n",
            "Epoch 215/300\n",
            "121/121 [==============================] - 2s 17ms/step - loss: 0.5950 - accuracy: 0.7957 - val_loss: 0.6968 - val_accuracy: 0.7729\n",
            "Epoch 216/300\n",
            "121/121 [==============================] - 2s 16ms/step - loss: 0.6021 - accuracy: 0.7957 - val_loss: 0.7108 - val_accuracy: 0.7655\n",
            "Epoch 217/300\n",
            "121/121 [==============================] - 2s 17ms/step - loss: 0.5822 - accuracy: 0.8035 - val_loss: 0.6810 - val_accuracy: 0.7865\n",
            "Epoch 218/300\n",
            "121/121 [==============================] - 2s 17ms/step - loss: 0.5961 - accuracy: 0.7921 - val_loss: 0.6960 - val_accuracy: 0.7592\n",
            "Epoch 219/300\n",
            "121/121 [==============================] - 2s 16ms/step - loss: 0.5856 - accuracy: 0.7968 - val_loss: 0.6851 - val_accuracy: 0.7718\n",
            "Epoch 220/300\n",
            "121/121 [==============================] - 2s 16ms/step - loss: 0.5999 - accuracy: 0.7963 - val_loss: 0.6866 - val_accuracy: 0.7792\n",
            "Epoch 221/300\n",
            "121/121 [==============================] - 2s 16ms/step - loss: 0.5826 - accuracy: 0.7963 - val_loss: 0.7281 - val_accuracy: 0.7497\n",
            "Epoch 222/300\n",
            "121/121 [==============================] - 2s 16ms/step - loss: 0.5784 - accuracy: 0.7890 - val_loss: 0.6868 - val_accuracy: 0.7802\n",
            "Epoch 223/300\n",
            "121/121 [==============================] - 2s 17ms/step - loss: 0.5766 - accuracy: 0.7895 - val_loss: 0.6863 - val_accuracy: 0.7771\n",
            "Epoch 224/300\n",
            "121/121 [==============================] - 2s 17ms/step - loss: 0.5884 - accuracy: 0.7983 - val_loss: 0.6782 - val_accuracy: 0.7802\n",
            "Epoch 225/300\n",
            "121/121 [==============================] - 2s 16ms/step - loss: 0.5652 - accuracy: 0.7983 - val_loss: 0.6728 - val_accuracy: 0.7813\n",
            "Epoch 226/300\n",
            "121/121 [==============================] - 2s 17ms/step - loss: 0.5727 - accuracy: 0.8015 - val_loss: 0.6554 - val_accuracy: 0.7823\n",
            "Epoch 227/300\n",
            "121/121 [==============================] - 2s 17ms/step - loss: 0.5759 - accuracy: 0.7895 - val_loss: 0.6890 - val_accuracy: 0.7823\n",
            "Epoch 228/300\n",
            "121/121 [==============================] - 2s 17ms/step - loss: 0.5432 - accuracy: 0.8035 - val_loss: 0.6846 - val_accuracy: 0.7792\n",
            "Epoch 229/300\n",
            "121/121 [==============================] - 2s 17ms/step - loss: 0.5664 - accuracy: 0.7968 - val_loss: 0.6689 - val_accuracy: 0.7844\n",
            "Epoch 230/300\n",
            "121/121 [==============================] - 2s 17ms/step - loss: 0.5396 - accuracy: 0.8258 - val_loss: 0.6747 - val_accuracy: 0.7897\n",
            "Epoch 231/300\n",
            "121/121 [==============================] - 2s 17ms/step - loss: 0.5690 - accuracy: 0.7983 - val_loss: 0.6646 - val_accuracy: 0.7823\n",
            "Epoch 232/300\n",
            "121/121 [==============================] - 2s 16ms/step - loss: 0.5402 - accuracy: 0.8108 - val_loss: 0.6620 - val_accuracy: 0.7897\n",
            "Epoch 233/300\n",
            "121/121 [==============================] - 2s 17ms/step - loss: 0.5348 - accuracy: 0.8170 - val_loss: 0.6454 - val_accuracy: 0.7865\n",
            "Epoch 234/300\n",
            "121/121 [==============================] - 2s 17ms/step - loss: 0.5264 - accuracy: 0.8196 - val_loss: 0.6541 - val_accuracy: 0.7813\n",
            "Epoch 235/300\n",
            "121/121 [==============================] - 2s 17ms/step - loss: 0.5321 - accuracy: 0.8201 - val_loss: 0.6443 - val_accuracy: 0.7960\n",
            "Epoch 236/300\n",
            "121/121 [==============================] - 2s 17ms/step - loss: 0.5399 - accuracy: 0.8092 - val_loss: 0.6521 - val_accuracy: 0.7907\n",
            "Epoch 237/300\n",
            "121/121 [==============================] - 2s 17ms/step - loss: 0.5296 - accuracy: 0.8061 - val_loss: 0.6461 - val_accuracy: 0.7876\n",
            "Epoch 238/300\n",
            "121/121 [==============================] - 2s 16ms/step - loss: 0.5471 - accuracy: 0.8035 - val_loss: 0.6357 - val_accuracy: 0.7939\n",
            "Epoch 239/300\n",
            "121/121 [==============================] - 2s 17ms/step - loss: 0.5287 - accuracy: 0.8222 - val_loss: 0.6339 - val_accuracy: 0.7928\n",
            "Epoch 240/300\n",
            "121/121 [==============================] - 2s 17ms/step - loss: 0.5354 - accuracy: 0.8087 - val_loss: 0.7047 - val_accuracy: 0.7560\n",
            "Epoch 241/300\n",
            "121/121 [==============================] - 2s 17ms/step - loss: 0.5266 - accuracy: 0.8165 - val_loss: 0.6584 - val_accuracy: 0.7928\n",
            "Epoch 242/300\n",
            "121/121 [==============================] - 2s 17ms/step - loss: 0.5075 - accuracy: 0.8289 - val_loss: 0.6388 - val_accuracy: 0.7960\n",
            "Epoch 243/300\n",
            "121/121 [==============================] - 2s 17ms/step - loss: 0.5133 - accuracy: 0.8227 - val_loss: 0.6254 - val_accuracy: 0.7918\n",
            "Epoch 244/300\n",
            "121/121 [==============================] - 2s 17ms/step - loss: 0.5249 - accuracy: 0.8237 - val_loss: 0.6261 - val_accuracy: 0.7928\n",
            "Epoch 245/300\n",
            "121/121 [==============================] - 2s 17ms/step - loss: 0.5095 - accuracy: 0.8206 - val_loss: 0.6340 - val_accuracy: 0.7939\n",
            "Epoch 246/300\n",
            "121/121 [==============================] - 2s 17ms/step - loss: 0.5259 - accuracy: 0.8129 - val_loss: 0.6124 - val_accuracy: 0.8055\n",
            "Epoch 247/300\n",
            "121/121 [==============================] - 2s 17ms/step - loss: 0.5094 - accuracy: 0.8284 - val_loss: 0.6473 - val_accuracy: 0.8097\n",
            "Epoch 248/300\n",
            "121/121 [==============================] - 2s 17ms/step - loss: 0.5018 - accuracy: 0.8377 - val_loss: 0.6390 - val_accuracy: 0.8118\n",
            "Epoch 249/300\n",
            "121/121 [==============================] - 2s 17ms/step - loss: 0.5057 - accuracy: 0.8284 - val_loss: 0.6556 - val_accuracy: 0.7844\n",
            "Epoch 250/300\n",
            "121/121 [==============================] - 2s 17ms/step - loss: 0.4908 - accuracy: 0.8372 - val_loss: 0.6319 - val_accuracy: 0.7992\n",
            "Epoch 251/300\n",
            "121/121 [==============================] - 2s 17ms/step - loss: 0.4979 - accuracy: 0.8269 - val_loss: 0.6137 - val_accuracy: 0.8034\n",
            "Epoch 252/300\n",
            "121/121 [==============================] - 2s 17ms/step - loss: 0.4738 - accuracy: 0.8388 - val_loss: 0.6270 - val_accuracy: 0.7939\n",
            "Epoch 253/300\n",
            "121/121 [==============================] - 2s 17ms/step - loss: 0.5092 - accuracy: 0.8248 - val_loss: 0.6054 - val_accuracy: 0.8118\n",
            "Epoch 254/300\n",
            "121/121 [==============================] - 2s 16ms/step - loss: 0.4835 - accuracy: 0.8367 - val_loss: 0.6447 - val_accuracy: 0.8013\n",
            "Epoch 255/300\n",
            "121/121 [==============================] - 2s 17ms/step - loss: 0.5047 - accuracy: 0.8201 - val_loss: 0.6203 - val_accuracy: 0.8097\n",
            "Epoch 256/300\n",
            "121/121 [==============================] - 2s 16ms/step - loss: 0.4782 - accuracy: 0.8367 - val_loss: 0.6240 - val_accuracy: 0.8023\n",
            "Epoch 257/300\n",
            "121/121 [==============================] - 2s 16ms/step - loss: 0.4635 - accuracy: 0.8450 - val_loss: 0.6196 - val_accuracy: 0.8013\n",
            "Epoch 258/300\n",
            "121/121 [==============================] - 2s 17ms/step - loss: 0.4692 - accuracy: 0.8357 - val_loss: 0.5866 - val_accuracy: 0.8107\n",
            "Epoch 259/300\n",
            "121/121 [==============================] - 2s 16ms/step - loss: 0.4603 - accuracy: 0.8414 - val_loss: 0.6035 - val_accuracy: 0.8013\n",
            "Epoch 260/300\n",
            "121/121 [==============================] - 2s 17ms/step - loss: 0.4841 - accuracy: 0.8419 - val_loss: 0.5911 - val_accuracy: 0.8191\n",
            "Epoch 261/300\n",
            "121/121 [==============================] - 2s 17ms/step - loss: 0.4718 - accuracy: 0.8429 - val_loss: 0.5860 - val_accuracy: 0.8286\n",
            "Epoch 262/300\n",
            "121/121 [==============================] - 2s 17ms/step - loss: 0.4587 - accuracy: 0.8455 - val_loss: 0.6144 - val_accuracy: 0.8149\n",
            "Epoch 263/300\n",
            "121/121 [==============================] - 2s 17ms/step - loss: 0.4667 - accuracy: 0.8388 - val_loss: 0.5781 - val_accuracy: 0.8139\n",
            "Epoch 264/300\n",
            "121/121 [==============================] - 2s 17ms/step - loss: 0.4417 - accuracy: 0.8517 - val_loss: 0.5885 - val_accuracy: 0.8212\n",
            "Epoch 265/300\n",
            "121/121 [==============================] - 2s 17ms/step - loss: 0.4585 - accuracy: 0.8471 - val_loss: 0.5682 - val_accuracy: 0.8160\n",
            "Epoch 266/300\n",
            "121/121 [==============================] - 2s 17ms/step - loss: 0.4543 - accuracy: 0.8424 - val_loss: 0.5556 - val_accuracy: 0.8191\n",
            "Epoch 267/300\n",
            "121/121 [==============================] - 2s 17ms/step - loss: 0.4509 - accuracy: 0.8414 - val_loss: 0.5606 - val_accuracy: 0.8181\n",
            "Epoch 268/300\n",
            "121/121 [==============================] - 2s 17ms/step - loss: 0.4158 - accuracy: 0.8626 - val_loss: 0.5490 - val_accuracy: 0.8170\n",
            "Epoch 269/300\n",
            "121/121 [==============================] - 2s 17ms/step - loss: 0.4432 - accuracy: 0.8497 - val_loss: 0.5660 - val_accuracy: 0.8223\n",
            "Epoch 270/300\n",
            "121/121 [==============================] - 2s 18ms/step - loss: 0.4465 - accuracy: 0.8517 - val_loss: 0.5755 - val_accuracy: 0.8223\n",
            "Epoch 271/300\n",
            "121/121 [==============================] - 2s 17ms/step - loss: 0.4453 - accuracy: 0.8569 - val_loss: 0.5489 - val_accuracy: 0.8286\n",
            "Epoch 272/300\n",
            "121/121 [==============================] - 2s 17ms/step - loss: 0.4226 - accuracy: 0.8585 - val_loss: 0.5657 - val_accuracy: 0.8202\n",
            "Epoch 273/300\n",
            "121/121 [==============================] - 2s 17ms/step - loss: 0.4277 - accuracy: 0.8445 - val_loss: 0.5653 - val_accuracy: 0.8381\n",
            "Epoch 274/300\n",
            "121/121 [==============================] - 2s 17ms/step - loss: 0.4323 - accuracy: 0.8466 - val_loss: 0.5630 - val_accuracy: 0.8128\n",
            "Epoch 275/300\n",
            "121/121 [==============================] - 2s 17ms/step - loss: 0.4112 - accuracy: 0.8631 - val_loss: 0.5720 - val_accuracy: 0.8181\n",
            "Epoch 276/300\n",
            "121/121 [==============================] - 2s 17ms/step - loss: 0.4374 - accuracy: 0.8523 - val_loss: 0.5395 - val_accuracy: 0.8318\n",
            "Epoch 277/300\n",
            "121/121 [==============================] - 2s 17ms/step - loss: 0.4089 - accuracy: 0.8663 - val_loss: 0.5560 - val_accuracy: 0.8191\n",
            "Epoch 278/300\n",
            "121/121 [==============================] - 2s 18ms/step - loss: 0.4229 - accuracy: 0.8574 - val_loss: 0.5514 - val_accuracy: 0.8297\n",
            "Epoch 279/300\n",
            "121/121 [==============================] - 2s 17ms/step - loss: 0.4317 - accuracy: 0.8564 - val_loss: 0.5723 - val_accuracy: 0.8160\n",
            "Epoch 280/300\n",
            "121/121 [==============================] - 2s 17ms/step - loss: 0.4129 - accuracy: 0.8642 - val_loss: 0.5493 - val_accuracy: 0.8212\n",
            "Epoch 281/300\n",
            "121/121 [==============================] - 2s 17ms/step - loss: 0.4187 - accuracy: 0.8569 - val_loss: 0.5732 - val_accuracy: 0.8097\n",
            "Epoch 282/300\n",
            "121/121 [==============================] - 2s 17ms/step - loss: 0.4370 - accuracy: 0.8538 - val_loss: 0.5386 - val_accuracy: 0.8318\n",
            "Epoch 283/300\n",
            "121/121 [==============================] - 2s 17ms/step - loss: 0.3986 - accuracy: 0.8652 - val_loss: 0.5810 - val_accuracy: 0.7960\n",
            "Epoch 284/300\n",
            "121/121 [==============================] - 2s 17ms/step - loss: 0.4127 - accuracy: 0.8580 - val_loss: 0.5397 - val_accuracy: 0.8212\n",
            "Epoch 285/300\n",
            "121/121 [==============================] - 2s 17ms/step - loss: 0.4070 - accuracy: 0.8605 - val_loss: 0.5397 - val_accuracy: 0.8233\n",
            "Epoch 286/300\n",
            "121/121 [==============================] - 2s 17ms/step - loss: 0.4137 - accuracy: 0.8631 - val_loss: 0.5251 - val_accuracy: 0.8381\n",
            "Epoch 287/300\n",
            "121/121 [==============================] - 2s 17ms/step - loss: 0.3991 - accuracy: 0.8678 - val_loss: 0.5206 - val_accuracy: 0.8254\n",
            "Epoch 288/300\n",
            "121/121 [==============================] - 2s 17ms/step - loss: 0.3962 - accuracy: 0.8709 - val_loss: 0.5193 - val_accuracy: 0.8391\n",
            "Epoch 289/300\n",
            "121/121 [==============================] - 2s 18ms/step - loss: 0.4001 - accuracy: 0.8663 - val_loss: 0.5627 - val_accuracy: 0.8170\n",
            "Epoch 290/300\n",
            "121/121 [==============================] - 2s 17ms/step - loss: 0.3959 - accuracy: 0.8569 - val_loss: 0.5313 - val_accuracy: 0.8265\n",
            "Epoch 291/300\n",
            "121/121 [==============================] - 2s 17ms/step - loss: 0.4025 - accuracy: 0.8559 - val_loss: 0.5360 - val_accuracy: 0.8286\n",
            "Epoch 292/300\n",
            "121/121 [==============================] - 2s 17ms/step - loss: 0.3803 - accuracy: 0.8694 - val_loss: 0.5194 - val_accuracy: 0.8402\n",
            "Epoch 293/300\n",
            "121/121 [==============================] - 2s 17ms/step - loss: 0.3938 - accuracy: 0.8631 - val_loss: 0.5129 - val_accuracy: 0.8454\n",
            "Epoch 294/300\n",
            "121/121 [==============================] - 2s 17ms/step - loss: 0.3779 - accuracy: 0.8673 - val_loss: 0.5347 - val_accuracy: 0.8328\n",
            "Epoch 295/300\n",
            "121/121 [==============================] - 2s 17ms/step - loss: 0.3694 - accuracy: 0.8730 - val_loss: 0.5274 - val_accuracy: 0.8307\n",
            "Epoch 296/300\n",
            "121/121 [==============================] - 2s 17ms/step - loss: 0.3710 - accuracy: 0.8730 - val_loss: 0.5125 - val_accuracy: 0.8423\n",
            "Epoch 297/300\n",
            "121/121 [==============================] - 2s 17ms/step - loss: 0.3710 - accuracy: 0.8668 - val_loss: 0.5432 - val_accuracy: 0.8202\n",
            "Epoch 298/300\n",
            "121/121 [==============================] - 2s 17ms/step - loss: 0.3782 - accuracy: 0.8751 - val_loss: 0.5351 - val_accuracy: 0.8381\n",
            "Epoch 299/300\n",
            "121/121 [==============================] - 2s 18ms/step - loss: 0.3743 - accuracy: 0.8714 - val_loss: 0.5137 - val_accuracy: 0.8360\n",
            "Epoch 300/300\n",
            "121/121 [==============================] - 2s 17ms/step - loss: 0.3853 - accuracy: 0.8699 - val_loss: 0.5256 - val_accuracy: 0.8328\n"
          ],
          "name": "stdout"
        }
      ]
    },
    {
      "cell_type": "code",
      "metadata": {
        "colab": {
          "base_uri": "https://localhost:8080/",
          "height": 295
        },
        "id": "W2TzWh94JL25",
        "outputId": "7f204485-1599-4aca-c147-079baefebd7a"
      },
      "source": [
        "plt.plot(cnnhistory.history['loss'])\n",
        "plt.plot(cnnhistory.history['val_loss'])\n",
        "plt.title('model loss')\n",
        "plt.ylabel('loss')\n",
        "plt.xlabel('epoch')\n",
        "plt.legend(['train', 'test'], loc='upper left')\n",
        "plt.show()"
      ],
      "execution_count": null,
      "outputs": [
        {
          "output_type": "display_data",
          "data": {
            "image/png": "[encoded data removed]",
            "text/plain": [
              "<Figure size 432x288 with 1 Axes>"
            ]
          },
          "metadata": {
            "tags": [],
            "needs_background": "light"
          }
        }
      ]
    },
    {
      "cell_type": "code",
      "metadata": {
        "colab": {
          "base_uri": "https://localhost:8080/",
          "height": 295
        },
        "id": "EeowbJSVJUKg",
        "outputId": "7a09a0d3-50cc-4b4e-e92c-b8f232248f58"
      },
      "source": [
        "plt.plot(cnnhistory.history['accuracy'])\n",
        "plt.plot(cnnhistory.history['val_accuracy'])\n",
        "plt.title('model accuracy')\n",
        "plt.ylabel('accuracy')\n",
        "plt.xlabel('epoch')\n",
        "plt.legend(['train', 'test'], loc='upper left')\n",
        "plt.show()"
      ],
      "execution_count": null,
      "outputs": [
        {
          "output_type": "display_data",
          "data": {
            "image/png": "[encoded data removed]",
            "text/plain": [
              "<Figure size 432x288 with 1 Axes>"
            ]
          },
          "metadata": {
            "tags": [],
            "needs_background": "light"
          }
        }
      ]
    },
    {
      "cell_type": "code",
      "metadata": {
        "colab": {
          "base_uri": "https://localhost:8080/"
        },
        "id": "qaudGegqJU5K",
        "outputId": "ae5afd3b-d7ea-435d-c14b-2955ac83b41f"
      },
      "source": [
        "predictions = model.predict_classes(x_testcnn)"
      ],
      "execution_count": null,
      "outputs": [
        {
          "output_type": "stream",
          "text": [
            "/usr/local/lib/python3.7/dist-packages/tensorflow/python/keras/engine/sequential.py:450: UserWarning: `model.predict_classes()` is deprecated and will be removed after 2021-01-01. Please use instead:* `np.argmax(model.predict(x), axis=-1)`,   if your model does multi-class classification   (e.g. if it uses a `softmax` last-layer activation).* `(model.predict(x) > 0.5).astype(\"int32\")`,   if your model does binary classification   (e.g. if it uses a `sigmoid` last-layer activation).\n",
            "  warnings.warn('`model.predict_classes()` is deprecated and '\n"
          ],
          "name": "stderr"
        }
      ]
    },
    {
      "cell_type": "code",
      "metadata": {
        "id": "EEmheaIsJgWh"
      },
      "source": [
        "new_Ytest = y_test.astype(int)"
      ],
      "execution_count": null,
      "outputs": []
    },
    {
      "cell_type": "code",
      "metadata": {
        "colab": {
          "base_uri": "https://localhost:8080/"
        },
        "id": "d8pmjZBgJksZ",
        "outputId": "606871e6-4454-417c-e65f-fc6934633586"
      },
      "source": [
        "from sklearn.metrics import classification_report\n",
        "report = classification_report(new_Ytest, predictions)\n",
        "print(report)"
      ],
      "execution_count": null,
      "outputs": [
        {
          "output_type": "stream",
          "text": [
            "              precision    recall  f1-score   support\n",
            "\n",
            "           0       0.96      0.40      0.56        68\n",
            "           1       0.83      0.97      0.90       142\n",
            "           2       0.81      0.89      0.85       108\n",
            "           3       0.80      0.78      0.79       132\n",
            "           4       0.79      0.91      0.85       127\n",
            "           5       0.86      0.88      0.87       112\n",
            "           6       0.83      0.80      0.82       136\n",
            "           7       0.89      0.83      0.86       126\n",
            "\n",
            "    accuracy                           0.83       951\n",
            "   macro avg       0.85      0.81      0.81       951\n",
            "weighted avg       0.84      0.83      0.83       951\n",
            "\n"
          ],
          "name": "stdout"
        }
      ]
    },
    {
      "cell_type": "code",
      "metadata": {
        "colab": {
          "base_uri": "https://localhost:8080/"
        },
        "id": "yZYZZNVFJnum",
        "outputId": "36709ded-ecf3-4b89-aa51-bc70d837312e"
      },
      "source": [
        "from sklearn.metrics import confusion_matrix\n",
        "matrix = confusion_matrix(new_Ytest, predictions)\n",
        "print (matrix)\n",
        "\n",
        "# 0 = neutral, 1 = calm, 2 = happy, 3 = sad, 4 = angry, 5 = fearful, 6 = disgust, 7 = surprised"
      ],
      "execution_count": null,
      "outputs": [
        {
          "output_type": "stream",
          "text": [
            "[[ 27  17   1  15   1   0   7   0]\n",
            " [  1 138   0   3   0   0   0   0]\n",
            " [  0   0  96   4   5   1   0   2]\n",
            " [  0   4   5 103   5  10   2   3]\n",
            " [  0   1   1   0 116   2   5   2]\n",
            " [  0   0   9   2   2  98   1   0]\n",
            " [  0   4   0   2  12   3 109   6]\n",
            " [  0   2   6   0   6   0   7 105]]\n"
          ],
          "name": "stdout"
        }
      ]
    },
    {
      "cell_type": "code",
      "metadata": {
        "colab": {
          "base_uri": "https://localhost:8080/"
        },
        "id": "7dq5l0n4JqRT",
        "outputId": "7fe9fc85-7406-4735-cbb8-37f8785ec23b"
      },
      "source": [
        "model.save('testing_model.h5')\n",
        "print(\"MODEL SAVED\")"
      ],
      "execution_count": null,
      "outputs": [
        {
          "output_type": "stream",
          "text": [
            "MODEL SAVED\n"
          ],
          "name": "stdout"
        }
      ]
    },
    {
      "cell_type": "code",
      "metadata": {
        "colab": {
          "base_uri": "https://localhost:8080/",
          "height": 343
        },
        "id": "IVqZ3e9_JsjZ",
        "outputId": "5d38555f-c927-44ea-feb1-8afd3e8debcb"
      },
      "source": [
        "new_model=keras.models.load_model('/content/testing01_model.h5')\n",
        "new_model.summary()"
      ],
      "execution_count": null,
      "outputs": [
        {
          "output_type": "error",
          "ename": "OSError",
          "evalue": "ignored",
          "traceback": [
            "\u001b[0;31m---------------------------------------------------------------------------\u001b[0m",
            "\u001b[0;31mOSError\u001b[0m                                   Traceback (most recent call last)",
            "\u001b[0;32m<ipython-input-60-d5ca39aaee7c>\u001b[0m in \u001b[0;36m<module>\u001b[0;34m()\u001b[0m\n\u001b[0;32m----> 1\u001b[0;31m \u001b[0mnew_model\u001b[0m\u001b[0;34m=\u001b[0m\u001b[0mkeras\u001b[0m\u001b[0;34m.\u001b[0m\u001b[0mmodels\u001b[0m\u001b[0;34m.\u001b[0m\u001b[0mload_model\u001b[0m\u001b[0;34m(\u001b[0m\u001b[0;34m'/content/testing01_model.h5'\u001b[0m\u001b[0;34m)\u001b[0m\u001b[0;34m\u001b[0m\u001b[0;34m\u001b[0m\u001b[0m\n\u001b[0m\u001b[1;32m      2\u001b[0m \u001b[0mnew_model\u001b[0m\u001b[0;34m.\u001b[0m\u001b[0msummary\u001b[0m\u001b[0;34m(\u001b[0m\u001b[0;34m)\u001b[0m\u001b[0;34m\u001b[0m\u001b[0;34m\u001b[0m\u001b[0m\n",
            "\u001b[0;32m/usr/local/lib/python3.7/dist-packages/tensorflow/python/keras/saving/save.py\u001b[0m in \u001b[0;36mload_model\u001b[0;34m(filepath, custom_objects, compile, options)\u001b[0m\n\u001b[1;32m    209\u001b[0m       \u001b[0mfilepath\u001b[0m \u001b[0;34m=\u001b[0m \u001b[0mpath_to_string\u001b[0m\u001b[0;34m(\u001b[0m\u001b[0mfilepath\u001b[0m\u001b[0;34m)\u001b[0m\u001b[0;34m\u001b[0m\u001b[0;34m\u001b[0m\u001b[0m\n\u001b[1;32m    210\u001b[0m       \u001b[0;32mif\u001b[0m \u001b[0misinstance\u001b[0m\u001b[0;34m(\u001b[0m\u001b[0mfilepath\u001b[0m\u001b[0;34m,\u001b[0m \u001b[0msix\u001b[0m\u001b[0;34m.\u001b[0m\u001b[0mstring_types\u001b[0m\u001b[0;34m)\u001b[0m\u001b[0;34m:\u001b[0m\u001b[0;34m\u001b[0m\u001b[0;34m\u001b[0m\u001b[0m\n\u001b[0;32m--> 211\u001b[0;31m         \u001b[0mloader_impl\u001b[0m\u001b[0;34m.\u001b[0m\u001b[0mparse_saved_model\u001b[0m\u001b[0;34m(\u001b[0m\u001b[0mfilepath\u001b[0m\u001b[0;34m)\u001b[0m\u001b[0;34m\u001b[0m\u001b[0;34m\u001b[0m\u001b[0m\n\u001b[0m\u001b[1;32m    212\u001b[0m         \u001b[0;32mreturn\u001b[0m \u001b[0msaved_model_load\u001b[0m\u001b[0;34m.\u001b[0m\u001b[0mload\u001b[0m\u001b[0;34m(\u001b[0m\u001b[0mfilepath\u001b[0m\u001b[0;34m,\u001b[0m \u001b[0mcompile\u001b[0m\u001b[0;34m,\u001b[0m \u001b[0moptions\u001b[0m\u001b[0;34m)\u001b[0m\u001b[0;34m\u001b[0m\u001b[0;34m\u001b[0m\u001b[0m\n\u001b[1;32m    213\u001b[0m \u001b[0;34m\u001b[0m\u001b[0m\n",
            "\u001b[0;32m/usr/local/lib/python3.7/dist-packages/tensorflow/python/saved_model/loader_impl.py\u001b[0m in \u001b[0;36mparse_saved_model\u001b[0;34m(export_dir)\u001b[0m\n\u001b[1;32m    112\u001b[0m                   (export_dir,\n\u001b[1;32m    113\u001b[0m                    \u001b[0mconstants\u001b[0m\u001b[0;34m.\u001b[0m\u001b[0mSAVED_MODEL_FILENAME_PBTXT\u001b[0m\u001b[0;34m,\u001b[0m\u001b[0;34m\u001b[0m\u001b[0;34m\u001b[0m\u001b[0m\n\u001b[0;32m--> 114\u001b[0;31m                    constants.SAVED_MODEL_FILENAME_PB))\n\u001b[0m\u001b[1;32m    115\u001b[0m \u001b[0;34m\u001b[0m\u001b[0m\n\u001b[1;32m    116\u001b[0m \u001b[0;34m\u001b[0m\u001b[0m\n",
            "\u001b[0;31mOSError\u001b[0m: SavedModel file does not exist at: /content/testing01_model.h5/{saved_model.pbtxt|saved_model.pb}"
          ]
        }
      ]
    },
    {
      "cell_type": "code",
      "metadata": {
        "colab": {
          "base_uri": "https://localhost:8080/"
        },
        "id": "PItj7njbJu_M",
        "outputId": "47b42ea3-2e3f-449f-a896-37110234c226"
      },
      "source": [
        "loss, acc = new_model.evaluate(x_testcnn, y_test)\n",
        "print(\"Restored model, accuracy: {:5.2f}%\".format(100*acc))"
      ],
      "execution_count": null,
      "outputs": [
        {
          "output_type": "stream",
          "text": [
            "30/30 [==============================] - 0s 4ms/step - loss: 0.5971 - accuracy: 0.8275\n",
            "Restored model, accuracy: 82.75%\n"
          ],
          "name": "stdout"
        }
      ]
    },
    {
      "cell_type": "code",
      "metadata": {
        "colab": {
          "base_uri": "https://localhost:8080/"
        },
        "id": "rBJDMcq9JySa",
        "outputId": "3bcd6d58-7bcc-4819-c9d2-52c70df79f6e"
      },
      "source": [
        "\n",
        "\"\"\"\n",
        "This file can be used to try a live prediction. \n",
        "\"\"\"\n",
        "\n",
        "import keras\n",
        "import numpy as np\n",
        "import librosa\n",
        "\n",
        "class livePredictions:\n",
        "    \"\"\"\n",
        "    Main class of the application.\n",
        "    \"\"\"\n",
        "\n",
        "    def __init__(self, path, file):\n",
        "        \"\"\"\n",
        "        Init method is used to initialize the main parameters.\n",
        "        \"\"\"\n",
        "        self.path = path\n",
        "        self.file = file\n",
        "\n",
        "    def load_model(self):\n",
        "        \"\"\"\n",
        "        Method to load the chosen model.\n",
        "        :param path: path to your h5 model.\n",
        "        :return: summary of the model with the .summary() function.\n",
        "        \"\"\"\n",
        "        self.loaded_model = keras.models.load_model(self.path)\n",
        "        return self.loaded_model.summary()\n",
        "\n",
        "    def makepredictions(self):\n",
        "        \"\"\"\n",
        "        Method to process the files and create your features.\n",
        "        \"\"\"\n",
        "        data, sampling_rate = librosa.load(self.file)\n",
        "        mfccs = np.mean(librosa.feature.mfcc(y=data, sr=sampling_rate, n_mfcc=40).T, axis=0)\n",
        "        x = np.expand_dims(mfccs, axis=1)\n",
        "        x = np.expand_dims(x, axis=0)\n",
        "        predictions = self.loaded_model.predict_classes(x)\n",
        "        print(\"Prediction is\", \" \", self.convertclasstoemotion(predictions))\n",
        "\n",
        "    @staticmethod\n",
        "    def convertclasstoemotion(pred):\n",
        "        \"\"\"\n",
        "        Method to convert the predictions (int) into human readable strings.\n",
        "        \"\"\"\n",
        "        \n",
        "        label_conversion = {'0': 'neutral',\n",
        "                            '1': 'calm',\n",
        "                            '2': 'happy',\n",
        "                            '3': 'sad',\n",
        "                            '4': 'angry',\n",
        "                            '5': 'fearful',\n",
        "                            '6': 'disgust',\n",
        "                            '7': 'surprised'}\n",
        "\n",
        "        for key, value in label_conversion.items():\n",
        "            if int(key) == pred:\n",
        "                label = value\n",
        "        return label\n",
        "\n",
        "# Here you can replace path and file with the path of your model and of the file \n",
        "#from the RAVDESS dataset you want to use for the prediction,\n",
        "\n",
        "pred = livePredictions(path='/content/drive/MyDrive/testing01_model.h5',file='/content/drive/MyDrive/SpeechEmotionReco/2021-04-30T06_48_17.698Z.wav')\n",
        "\n",
        "pred.load_model()\n",
        "pred.makepredictions()"
      ],
      "execution_count": null,
      "outputs": [
        {
          "output_type": "stream",
          "text": [
            "Model: \"sequential\"\n",
            "_________________________________________________________________\n",
            "Layer (type)                 Output Shape              Param #   \n",
            "=================================================================\n",
            "conv1d (Conv1D)              (None, 40, 64)            384       \n",
            "_________________________________________________________________\n",
            "activation (Activation)      (None, 40, 64)            0         \n",
            "_________________________________________________________________\n",
            "dropout (Dropout)            (None, 40, 64)            0         \n",
            "_________________________________________________________________\n",
            "max_pooling1d (MaxPooling1D) (None, 10, 64)            0         \n",
            "_________________________________________________________________\n",
            "conv1d_1 (Conv1D)            (None, 10, 128)           41088     \n",
            "_________________________________________________________________\n",
            "activation_1 (Activation)    (None, 10, 128)           0         \n",
            "_________________________________________________________________\n",
            "dropout_1 (Dropout)          (None, 10, 128)           0         \n",
            "_________________________________________________________________\n",
            "max_pooling1d_1 (MaxPooling1 (None, 2, 128)            0         \n",
            "_________________________________________________________________\n",
            "conv1d_2 (Conv1D)            (None, 2, 256)            164096    \n",
            "_________________________________________________________________\n",
            "activation_2 (Activation)    (None, 2, 256)            0         \n",
            "_________________________________________________________________\n",
            "dropout_2 (Dropout)          (None, 2, 256)            0         \n",
            "_________________________________________________________________\n",
            "flatten (Flatten)            (None, 512)               0         \n",
            "_________________________________________________________________\n",
            "dense (Dense)                (None, 8)                 4104      \n",
            "_________________________________________________________________\n",
            "activation_3 (Activation)    (None, 8)                 0         \n",
            "=================================================================\n",
            "Total params: 209,672\n",
            "Trainable params: 209,672\n",
            "Non-trainable params: 0\n",
            "_________________________________________________________________\n",
            "WARNING:tensorflow:5 out of the last 5 calls to <function Model.make_predict_function.<locals>.predict_function at 0x7f39fc4555f0> triggered tf.function retracing. Tracing is expensive and the excessive number of tracings could be due to (1) creating @tf.function repeatedly in a loop, (2) passing tensors with different shapes, (3) passing Python objects instead of tensors. For (1), please define your @tf.function outside of the loop. For (2), @tf.function has experimental_relax_shapes=True option that relaxes argument shapes that can avoid unnecessary retracing. For (3), please refer to https://www.tensorflow.org/guide/function#controlling_retracing and https://www.tensorflow.org/api_docs/python/tf/function for  more details.\n",
            "Prediction is   calm\n"
          ],
          "name": "stdout"
        },
        {
          "output_type": "stream",
          "text": [
            "/usr/local/lib/python3.7/dist-packages/tensorflow/python/keras/engine/sequential.py:450: UserWarning: `model.predict_classes()` is deprecated and will be removed after 2021-01-01. Please use instead:* `np.argmax(model.predict(x), axis=-1)`,   if your model does multi-class classification   (e.g. if it uses a `softmax` last-layer activation).* `(model.predict(x) > 0.5).astype(\"int32\")`,   if your model does binary classification   (e.g. if it uses a `sigmoid` last-layer activation).\n",
            "  warnings.warn('`model.predict_classes()` is deprecated and '\n"
          ],
          "name": "stderr"
        }
      ]
    }
  ]
}